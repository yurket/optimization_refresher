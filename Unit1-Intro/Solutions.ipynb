{
 "cells": [
  {
   "cell_type": "code",
   "execution_count": 38,
   "id": "66d19d40",
   "metadata": {},
   "outputs": [
    {
     "name": "stderr",
     "output_type": "stream",
     "text": [
      "\u001b[32m\u001b[1m   Resolving\u001b[22m\u001b[39m package versions...\n",
      "\u001b[32m\u001b[1m  No Changes\u001b[22m\u001b[39m to `~/.julia/environments/v1.6/Project.toml`\n",
      "\u001b[32m\u001b[1m  No Changes\u001b[22m\u001b[39m to `~/.julia/environments/v1.6/Manifest.toml`\n",
      "\u001b[32m\u001b[1mPrecompiling\u001b[22m\u001b[39m project...\n",
      "\u001b[32m  ✓ \u001b[39m\u001b[90mChainRulesCore\u001b[39m\n",
      "\u001b[33m  ✓ \u001b[39mIJulia\n",
      "\u001b[33m  ✓ \u001b[39m\u001b[90mDataStructures\u001b[39m\n",
      "\u001b[33m  ✓ \u001b[39m\u001b[90mSortingAlgorithms\u001b[39m\n",
      "\u001b[32m  ✓ \u001b[39m\u001b[90mReactive\u001b[39m\n",
      "\u001b[32m  ✓ \u001b[39m\u001b[90mInterpolations\u001b[39m\n",
      "\u001b[33m  ✓ \u001b[39m\u001b[90mColors\u001b[39m\n",
      "\u001b[33m  ✓ \u001b[39m\u001b[90mStatsBase\u001b[39m\n",
      "\u001b[32m  ✓ \u001b[39m\u001b[90mGraphics\u001b[39m\n",
      "\u001b[32m  ✓ \u001b[39m\u001b[90mWidgets\u001b[39m\n",
      "\u001b[32m  ✓ \u001b[39m\u001b[90mSpecialFunctions\u001b[39m\n",
      "\u001b[32m  ✓ \u001b[39m\u001b[90mOpenEXR\u001b[39m\n",
      "\u001b[32m  ✓ \u001b[39m\u001b[90mFFTW\u001b[39m\n",
      "\u001b[32m  ✓ \u001b[39m\u001b[90mFFTViews\u001b[39m\n",
      "\u001b[32m  ✓ \u001b[39m\u001b[90mColorVectorSpace\u001b[39m\n",
      "\u001b[32m  ✓ \u001b[39m\u001b[90mImageCore\u001b[39m\n",
      "\u001b[32m  ✓ \u001b[39m\u001b[90mWebIO\u001b[39m\n",
      "\u001b[33m  ✓ \u001b[39m\u001b[90mColorSchemes\u001b[39m\n",
      "\u001b[32m  ✓ \u001b[39m\u001b[90mImageShow\u001b[39m\n",
      "\u001b[32m  ✓ \u001b[39m\u001b[90mImageMorphology\u001b[39m\n",
      "\u001b[32m  ✓ \u001b[39m\u001b[90mImageAxes\u001b[39m\n",
      "\u001b[32m  ✓ \u001b[39m\u001b[90mNetpbm\u001b[39m\n",
      "\u001b[32m  ✓ \u001b[39m\u001b[90mPNGFiles\u001b[39m\n",
      "\u001b[32m  ✓ \u001b[39m\u001b[90mImageTransformations\u001b[39m\n",
      "\u001b[32m  ✓ \u001b[39m\u001b[90mImageMagick\u001b[39m\n",
      "\u001b[32m  ✓ \u001b[39m\u001b[90mImageIO\u001b[39m\n",
      "\u001b[32m  ✓ \u001b[39m\u001b[90mCSSUtil\u001b[39m\n",
      "\u001b[32m  ✓ \u001b[39m\u001b[90mImageDistances\u001b[39m\n",
      "\u001b[32m  ✓ \u001b[39m\u001b[90mImageMetadata\u001b[39m\n",
      "\u001b[32m  ✓ \u001b[39m\u001b[90mJSExpr\u001b[39m\n",
      "\u001b[32m  ✓ \u001b[39m\u001b[90mImageContrastAdjustment\u001b[39m\n",
      "\u001b[33m  ✓ \u001b[39m\u001b[90mPlotUtils\u001b[39m\n",
      "\u001b[32m  ✓ \u001b[39m\u001b[90mKnockout\u001b[39m\n",
      "\u001b[33m  ✓ \u001b[39m\u001b[90mRecipesPipeline\u001b[39m\n",
      "\u001b[33m  ✓ \u001b[39m\u001b[90mPlotThemes\u001b[39m\n",
      "\u001b[32m  ✓ \u001b[39m\u001b[90mInteractBase\u001b[39m\n",
      "\u001b[32m  ✓ \u001b[39m\u001b[90mImageFiltering\u001b[39m\n",
      "\u001b[32m  ✓ \u001b[39m\u001b[90mInteract\u001b[39m\n",
      "\u001b[32m  ✓ \u001b[39mRevealables\n",
      "\u001b[32m  ✓ \u001b[39m\u001b[90mImageQualityIndexes\u001b[39m\n",
      "\u001b[32m  ✓ \u001b[39mImages\n",
      "\u001b[33m  ✓ \u001b[39mPlots\n",
      "  42 dependencies successfully precompiled in 47 seconds (162 already precompiled)\n",
      "  \u001b[33m10\u001b[39m dependencies precompiled but different versions are currently loaded. Restart julia to access the new versions\n"
     ]
    }
   ],
   "source": [
    "import Pkg\n",
    "Pkg.add(\"Plots\")"
   ]
  },
  {
   "cell_type": "code",
   "execution_count": 39,
   "id": "4049ff06",
   "metadata": {},
   "outputs": [],
   "source": [
    "using Plots"
   ]
  },
  {
   "cell_type": "markdown",
   "id": "fe963f58",
   "metadata": {},
   "source": [
    "## 1.5 Secant method"
   ]
  },
  {
   "cell_type": "code",
   "execution_count": 49,
   "id": "a0a67865",
   "metadata": {},
   "outputs": [
    {
     "data": {
      "image/svg+xml": [
       "<?xml version=\"1.0\" encoding=\"utf-8\"?>\n",
       "<svg xmlns=\"http://www.w3.org/2000/svg\" xmlns:xlink=\"http://www.w3.org/1999/xlink\" width=\"600\" height=\"400\" viewBox=\"0 0 2400 1600\">\n",
       "<defs>\n",
       "  <clipPath id=\"clip660\">\n",
       "    <rect x=\"0\" y=\"0\" width=\"2400\" height=\"1600\"/>\n",
       "  </clipPath>\n",
       "</defs>\n",
       "<path clip-path=\"url(#clip660)\" d=\"\n",
       "M0 1600 L2400 1600 L2400 0 L0 0  Z\n",
       "  \" fill=\"#ffffff\" fill-rule=\"evenodd\" fill-opacity=\"1\"/>\n",
       "<defs>\n",
       "  <clipPath id=\"clip661\">\n",
       "    <rect x=\"480\" y=\"0\" width=\"1681\" height=\"1600\"/>\n",
       "  </clipPath>\n",
       "</defs>\n",
       "<path clip-path=\"url(#clip660)\" d=\"\n",
       "M177.871 1486.45 L2352.76 1486.45 L2352.76 47.2441 L177.871 47.2441  Z\n",
       "  \" fill=\"#ffffff\" fill-rule=\"evenodd\" fill-opacity=\"1\"/>\n",
       "<defs>\n",
       "  <clipPath id=\"clip662\">\n",
       "    <rect x=\"177\" y=\"47\" width=\"2176\" height=\"1440\"/>\n",
       "  </clipPath>\n",
       "</defs>\n",
       "<polyline clip-path=\"url(#clip662)\" style=\"stroke:#000000; stroke-linecap:butt; stroke-linejoin:round; stroke-width:2; stroke-opacity:0.1; fill:none\" points=\"\n",
       "  444.602,1486.45 444.602,47.2441 \n",
       "  \"/>\n",
       "<polyline clip-path=\"url(#clip662)\" style=\"stroke:#000000; stroke-linecap:butt; stroke-linejoin:round; stroke-width:2; stroke-opacity:0.1; fill:none\" points=\"\n",
       "  854.958,1486.45 854.958,47.2441 \n",
       "  \"/>\n",
       "<polyline clip-path=\"url(#clip662)\" style=\"stroke:#000000; stroke-linecap:butt; stroke-linejoin:round; stroke-width:2; stroke-opacity:0.1; fill:none\" points=\"\n",
       "  1265.31,1486.45 1265.31,47.2441 \n",
       "  \"/>\n",
       "<polyline clip-path=\"url(#clip662)\" style=\"stroke:#000000; stroke-linecap:butt; stroke-linejoin:round; stroke-width:2; stroke-opacity:0.1; fill:none\" points=\"\n",
       "  1675.67,1486.45 1675.67,47.2441 \n",
       "  \"/>\n",
       "<polyline clip-path=\"url(#clip662)\" style=\"stroke:#000000; stroke-linecap:butt; stroke-linejoin:round; stroke-width:2; stroke-opacity:0.1; fill:none\" points=\"\n",
       "  2086.02,1486.45 2086.02,47.2441 \n",
       "  \"/>\n",
       "<polyline clip-path=\"url(#clip660)\" style=\"stroke:#000000; stroke-linecap:butt; stroke-linejoin:round; stroke-width:4; stroke-opacity:1; fill:none\" points=\"\n",
       "  177.871,1486.45 2352.76,1486.45 \n",
       "  \"/>\n",
       "<polyline clip-path=\"url(#clip660)\" style=\"stroke:#000000; stroke-linecap:butt; stroke-linejoin:round; stroke-width:4; stroke-opacity:1; fill:none\" points=\"\n",
       "  444.602,1486.45 444.602,1467.55 \n",
       "  \"/>\n",
       "<polyline clip-path=\"url(#clip660)\" style=\"stroke:#000000; stroke-linecap:butt; stroke-linejoin:round; stroke-width:4; stroke-opacity:1; fill:none\" points=\"\n",
       "  854.958,1486.45 854.958,1467.55 \n",
       "  \"/>\n",
       "<polyline clip-path=\"url(#clip660)\" style=\"stroke:#000000; stroke-linecap:butt; stroke-linejoin:round; stroke-width:4; stroke-opacity:1; fill:none\" points=\"\n",
       "  1265.31,1486.45 1265.31,1467.55 \n",
       "  \"/>\n",
       "<polyline clip-path=\"url(#clip660)\" style=\"stroke:#000000; stroke-linecap:butt; stroke-linejoin:round; stroke-width:4; stroke-opacity:1; fill:none\" points=\"\n",
       "  1675.67,1486.45 1675.67,1467.55 \n",
       "  \"/>\n",
       "<polyline clip-path=\"url(#clip660)\" style=\"stroke:#000000; stroke-linecap:butt; stroke-linejoin:round; stroke-width:4; stroke-opacity:1; fill:none\" points=\"\n",
       "  2086.02,1486.45 2086.02,1467.55 \n",
       "  \"/>\n",
       "<path clip-path=\"url(#clip660)\" d=\"M413.503 1530.29 L443.179 1530.29 L443.179 1534.23 L413.503 1534.23 L413.503 1530.29 Z\" fill=\"#000000\" fill-rule=\"evenodd\" fill-opacity=\"1\" /><path clip-path=\"url(#clip660)\" d=\"M466.118 1516.63 L454.313 1535.08 L466.118 1535.08 L466.118 1516.63 M464.892 1512.56 L470.771 1512.56 L470.771 1535.08 L475.702 1535.08 L475.702 1538.97 L470.771 1538.97 L470.771 1547.12 L466.118 1547.12 L466.118 1538.97 L450.517 1538.97 L450.517 1534.46 L464.892 1512.56 Z\" fill=\"#000000\" fill-rule=\"evenodd\" fill-opacity=\"1\" /><path clip-path=\"url(#clip660)\" d=\"M824.9 1530.29 L854.576 1530.29 L854.576 1534.23 L824.9 1534.23 L824.9 1530.29 Z\" fill=\"#000000\" fill-rule=\"evenodd\" fill-opacity=\"1\" /><path clip-path=\"url(#clip660)\" d=\"M868.696 1543.18 L885.016 1543.18 L885.016 1547.12 L863.071 1547.12 L863.071 1543.18 Q865.733 1540.43 870.317 1535.8 Q874.923 1531.15 876.104 1529.81 Q878.349 1527.28 879.229 1525.55 Q880.131 1523.79 880.131 1522.1 Q880.131 1519.34 878.187 1517.61 Q876.266 1515.87 873.164 1515.87 Q870.965 1515.87 868.511 1516.63 Q866.081 1517.4 863.303 1518.95 L863.303 1514.23 Q866.127 1513.09 868.581 1512.51 Q871.034 1511.93 873.071 1511.93 Q878.442 1511.93 881.636 1514.62 Q884.831 1517.31 884.831 1521.8 Q884.831 1523.93 884.02 1525.85 Q883.233 1527.74 881.127 1530.34 Q880.548 1531.01 877.446 1534.23 Q874.344 1537.42 868.696 1543.18 Z\" fill=\"#000000\" fill-rule=\"evenodd\" fill-opacity=\"1\" /><path clip-path=\"url(#clip660)\" d=\"M1265.31 1515.64 Q1261.7 1515.64 1259.87 1519.2 Q1258.07 1522.75 1258.07 1529.87 Q1258.07 1536.98 1259.87 1540.55 Q1261.7 1544.09 1265.31 1544.09 Q1268.95 1544.09 1270.75 1540.55 Q1272.58 1536.98 1272.58 1529.87 Q1272.58 1522.75 1270.75 1519.2 Q1268.95 1515.64 1265.31 1515.64 M1265.31 1511.93 Q1271.12 1511.93 1274.18 1516.54 Q1277.26 1521.12 1277.26 1529.87 Q1277.26 1538.6 1274.18 1543.21 Q1271.12 1547.79 1265.31 1547.79 Q1259.5 1547.79 1256.42 1543.21 Q1253.37 1538.6 1253.37 1529.87 Q1253.37 1521.12 1256.42 1516.54 Q1259.5 1511.93 1265.31 1511.93 Z\" fill=\"#000000\" fill-rule=\"evenodd\" fill-opacity=\"1\" /><path clip-path=\"url(#clip660)\" d=\"M1670.32 1543.18 L1686.64 1543.18 L1686.64 1547.12 L1664.7 1547.12 L1664.7 1543.18 Q1667.36 1540.43 1671.94 1535.8 Q1676.55 1531.15 1677.73 1529.81 Q1679.97 1527.28 1680.85 1525.55 Q1681.76 1523.79 1681.76 1522.1 Q1681.76 1519.34 1679.81 1517.61 Q1677.89 1515.87 1674.79 1515.87 Q1672.59 1515.87 1670.14 1516.63 Q1667.71 1517.4 1664.93 1518.95 L1664.93 1514.23 Q1667.75 1513.09 1670.21 1512.51 Q1672.66 1511.93 1674.7 1511.93 Q1680.07 1511.93 1683.26 1514.62 Q1686.46 1517.31 1686.46 1521.8 Q1686.46 1523.93 1685.65 1525.85 Q1684.86 1527.74 1682.75 1530.34 Q1682.17 1531.01 1679.07 1534.23 Q1675.97 1537.42 1670.32 1543.18 Z\" fill=\"#000000\" fill-rule=\"evenodd\" fill-opacity=\"1\" /><path clip-path=\"url(#clip660)\" d=\"M2089.03 1516.63 L2077.23 1535.08 L2089.03 1535.08 L2089.03 1516.63 M2087.81 1512.56 L2093.69 1512.56 L2093.69 1535.08 L2098.62 1535.08 L2098.62 1538.97 L2093.69 1538.97 L2093.69 1547.12 L2089.03 1547.12 L2089.03 1538.97 L2073.43 1538.97 L2073.43 1534.46 L2087.81 1512.56 Z\" fill=\"#000000\" fill-rule=\"evenodd\" fill-opacity=\"1\" /><polyline clip-path=\"url(#clip662)\" style=\"stroke:#000000; stroke-linecap:butt; stroke-linejoin:round; stroke-width:2; stroke-opacity:0.1; fill:none\" points=\"\n",
       "  177.871,1269.21 2352.76,1269.21 \n",
       "  \"/>\n",
       "<polyline clip-path=\"url(#clip662)\" style=\"stroke:#000000; stroke-linecap:butt; stroke-linejoin:round; stroke-width:2; stroke-opacity:0.1; fill:none\" points=\"\n",
       "  177.871,929.775 2352.76,929.775 \n",
       "  \"/>\n",
       "<polyline clip-path=\"url(#clip662)\" style=\"stroke:#000000; stroke-linecap:butt; stroke-linejoin:round; stroke-width:2; stroke-opacity:0.1; fill:none\" points=\"\n",
       "  177.871,590.34 2352.76,590.34 \n",
       "  \"/>\n",
       "<polyline clip-path=\"url(#clip662)\" style=\"stroke:#000000; stroke-linecap:butt; stroke-linejoin:round; stroke-width:2; stroke-opacity:0.1; fill:none\" points=\"\n",
       "  177.871,250.905 2352.76,250.905 \n",
       "  \"/>\n",
       "<polyline clip-path=\"url(#clip660)\" style=\"stroke:#000000; stroke-linecap:butt; stroke-linejoin:round; stroke-width:4; stroke-opacity:1; fill:none\" points=\"\n",
       "  177.871,1486.45 177.871,47.2441 \n",
       "  \"/>\n",
       "<polyline clip-path=\"url(#clip660)\" style=\"stroke:#000000; stroke-linecap:butt; stroke-linejoin:round; stroke-width:4; stroke-opacity:1; fill:none\" points=\"\n",
       "  177.871,1269.21 196.769,1269.21 \n",
       "  \"/>\n",
       "<polyline clip-path=\"url(#clip660)\" style=\"stroke:#000000; stroke-linecap:butt; stroke-linejoin:round; stroke-width:4; stroke-opacity:1; fill:none\" points=\"\n",
       "  177.871,929.775 196.769,929.775 \n",
       "  \"/>\n",
       "<polyline clip-path=\"url(#clip660)\" style=\"stroke:#000000; stroke-linecap:butt; stroke-linejoin:round; stroke-width:4; stroke-opacity:1; fill:none\" points=\"\n",
       "  177.871,590.34 196.769,590.34 \n",
       "  \"/>\n",
       "<polyline clip-path=\"url(#clip660)\" style=\"stroke:#000000; stroke-linecap:butt; stroke-linejoin:round; stroke-width:4; stroke-opacity:1; fill:none\" points=\"\n",
       "  177.871,250.905 196.769,250.905 \n",
       "  \"/>\n",
       "<path clip-path=\"url(#clip660)\" d=\"M50.9921 1269.66 L80.6679 1269.66 L80.6679 1273.6 L50.9921 1273.6 L50.9921 1269.66 Z\" fill=\"#000000\" fill-rule=\"evenodd\" fill-opacity=\"1\" /><path clip-path=\"url(#clip660)\" d=\"M94.7882 1282.55 L111.108 1282.55 L111.108 1286.49 L89.1632 1286.49 L89.1632 1282.55 Q91.8252 1279.8 96.4085 1275.17 Q101.015 1270.52 102.196 1269.17 Q104.441 1266.65 105.321 1264.92 Q106.223 1263.16 106.223 1261.47 Q106.223 1258.71 104.279 1256.98 Q102.358 1255.24 99.2558 1255.24 Q97.0567 1255.24 94.603 1256 Q92.1725 1256.77 89.3947 1258.32 L89.3947 1253.6 Q92.2188 1252.46 94.6724 1251.88 Q97.1261 1251.3 99.1632 1251.3 Q104.534 1251.3 107.728 1253.99 Q110.922 1256.67 110.922 1261.17 Q110.922 1263.3 110.112 1265.22 Q109.325 1267.11 107.219 1269.71 Q106.64 1270.38 103.538 1273.6 Q100.436 1276.79 94.7882 1282.55 Z\" fill=\"#000000\" fill-rule=\"evenodd\" fill-opacity=\"1\" /><path clip-path=\"url(#clip660)\" d=\"M120.969 1251.93 L139.325 1251.93 L139.325 1255.86 L125.251 1255.86 L125.251 1264.34 Q126.27 1263.99 127.288 1263.83 Q128.307 1263.64 129.325 1263.64 Q135.112 1263.64 138.492 1266.81 Q141.871 1269.99 141.871 1275.4 Q141.871 1280.98 138.399 1284.08 Q134.927 1287.16 128.607 1287.16 Q126.432 1287.16 124.163 1286.79 Q121.918 1286.42 119.51 1285.68 L119.51 1280.98 Q121.594 1282.11 123.816 1282.67 Q126.038 1283.23 128.515 1283.23 Q132.519 1283.23 134.857 1281.12 Q137.195 1279.01 137.195 1275.4 Q137.195 1271.79 134.857 1269.68 Q132.519 1267.58 128.515 1267.58 Q126.64 1267.58 124.765 1267.99 Q122.913 1268.41 120.969 1269.29 L120.969 1251.93 Z\" fill=\"#000000\" fill-rule=\"evenodd\" fill-opacity=\"1\" /><path clip-path=\"url(#clip660)\" d=\"M129.927 915.573 Q126.316 915.573 124.487 919.138 Q122.682 922.68 122.682 929.809 Q122.682 936.916 124.487 940.481 Q126.316 944.022 129.927 944.022 Q133.561 944.022 135.367 940.481 Q137.195 936.916 137.195 929.809 Q137.195 922.68 135.367 919.138 Q133.561 915.573 129.927 915.573 M129.927 911.87 Q135.737 911.87 138.793 916.476 Q141.871 921.059 141.871 929.809 Q141.871 938.536 138.793 943.143 Q135.737 947.726 129.927 947.726 Q124.117 947.726 121.038 943.143 Q117.983 938.536 117.983 929.809 Q117.983 921.059 121.038 916.476 Q124.117 911.87 129.927 911.87 Z\" fill=\"#000000\" fill-rule=\"evenodd\" fill-opacity=\"1\" /><path clip-path=\"url(#clip660)\" d=\"M94.7882 603.685 L111.108 603.685 L111.108 607.62 L89.1632 607.62 L89.1632 603.685 Q91.8252 600.93 96.4085 596.3 Q101.015 591.648 102.196 590.305 Q104.441 587.782 105.321 586.046 Q106.223 584.287 106.223 582.597 Q106.223 579.842 104.279 578.106 Q102.358 576.37 99.2558 576.37 Q97.0567 576.37 94.603 577.134 Q92.1725 577.898 89.3947 579.449 L89.3947 574.727 Q92.2188 573.592 94.6724 573.014 Q97.1261 572.435 99.1632 572.435 Q104.534 572.435 107.728 575.12 Q110.922 577.805 110.922 582.296 Q110.922 584.426 110.112 586.347 Q109.325 588.245 107.219 590.838 Q106.64 591.509 103.538 594.726 Q100.436 597.921 94.7882 603.685 Z\" fill=\"#000000\" fill-rule=\"evenodd\" fill-opacity=\"1\" /><path clip-path=\"url(#clip660)\" d=\"M120.969 573.06 L139.325 573.06 L139.325 576.995 L125.251 576.995 L125.251 585.467 Q126.27 585.12 127.288 584.958 Q128.307 584.773 129.325 584.773 Q135.112 584.773 138.492 587.944 Q141.871 591.115 141.871 596.532 Q141.871 602.111 138.399 605.212 Q134.927 608.291 128.607 608.291 Q126.432 608.291 124.163 607.921 Q121.918 607.55 119.51 606.81 L119.51 602.111 Q121.594 603.245 123.816 603.8 Q126.038 604.356 128.515 604.356 Q132.519 604.356 134.857 602.25 Q137.195 600.143 137.195 596.532 Q137.195 592.921 134.857 590.814 Q132.519 588.708 128.515 588.708 Q126.64 588.708 124.765 589.125 Q122.913 589.541 120.969 590.421 L120.969 573.06 Z\" fill=\"#000000\" fill-rule=\"evenodd\" fill-opacity=\"1\" /><path clip-path=\"url(#clip660)\" d=\"M89.8114 233.625 L108.168 233.625 L108.168 237.56 L94.0937 237.56 L94.0937 246.032 Q95.1123 245.685 96.1308 245.523 Q97.1493 245.338 98.1678 245.338 Q103.955 245.338 107.334 248.509 Q110.714 251.68 110.714 257.097 Q110.714 262.676 107.242 265.778 Q103.77 268.856 97.4502 268.856 Q95.2743 268.856 93.0058 268.486 Q90.7604 268.116 88.353 267.375 L88.353 262.676 Q90.4364 263.81 92.6586 264.366 Q94.8808 264.921 97.3576 264.921 Q101.362 264.921 103.7 262.815 Q106.038 260.708 106.038 257.097 Q106.038 253.486 103.7 251.38 Q101.362 249.273 97.3576 249.273 Q95.4826 249.273 93.6076 249.69 Q91.7558 250.106 89.8114 250.986 L89.8114 233.625 Z\" fill=\"#000000\" fill-rule=\"evenodd\" fill-opacity=\"1\" /><path clip-path=\"url(#clip660)\" d=\"M129.927 236.704 Q126.316 236.704 124.487 240.268 Q122.682 243.81 122.682 250.94 Q122.682 258.046 124.487 261.611 Q126.316 265.153 129.927 265.153 Q133.561 265.153 135.367 261.611 Q137.195 258.046 137.195 250.94 Q137.195 243.81 135.367 240.268 Q133.561 236.704 129.927 236.704 M129.927 233 Q135.737 233 138.793 237.606 Q141.871 242.19 141.871 250.94 Q141.871 259.667 138.793 264.273 Q135.737 268.856 129.927 268.856 Q124.117 268.856 121.038 264.273 Q117.983 259.667 117.983 250.94 Q117.983 242.19 121.038 237.606 Q124.117 233 129.927 233 Z\" fill=\"#000000\" fill-rule=\"evenodd\" fill-opacity=\"1\" /><polyline clip-path=\"url(#clip662)\" style=\"stroke:#009af9; stroke-linecap:butt; stroke-linejoin:round; stroke-width:4; stroke-opacity:1; fill:none\" points=\"\n",
       "  239.425,1445.72 259.942,1366.27 280.46,1290.82 300.978,1219.29 321.496,1151.58 342.014,1087.61 362.531,1027.31 383.049,970.602 403.567,917.392 424.085,867.604 \n",
       "  444.602,821.156 465.12,777.966 485.638,737.953 506.156,701.036 526.674,667.134 547.191,636.164 567.709,608.045 588.227,582.696 608.745,560.035 629.262,539.981 \n",
       "  649.78,522.453 670.298,507.368 690.816,494.646 711.334,484.205 731.851,475.964 752.369,469.84 772.887,465.754 793.405,463.622 813.922,463.364 834.44,464.898 \n",
       "  854.958,468.143 875.476,473.018 895.994,479.44 916.511,487.328 937.029,496.602 957.547,507.178 978.065,518.977 998.582,531.916 1019.1,545.915 1039.62,560.89 \n",
       "  1060.14,576.762 1080.65,593.449 1101.17,610.869 1121.69,628.94 1142.21,647.582 1162.72,666.713 1183.24,686.251 1203.76,706.114 1224.28,726.222 1244.8,746.493 \n",
       "  1265.31,766.846 1285.83,787.198 1306.35,807.47 1326.87,827.578 1347.38,847.441 1367.9,866.979 1388.42,886.11 1408.94,904.752 1429.46,922.823 1449.97,940.243 \n",
       "  1470.49,956.93 1491.01,972.801 1511.53,987.777 1532.04,1001.78 1552.56,1014.71 1573.08,1026.51 1593.6,1037.09 1614.12,1046.36 1634.63,1054.25 1655.15,1060.67 \n",
       "  1675.67,1065.55 1696.19,1068.79 1716.7,1070.33 1737.22,1070.07 1757.74,1067.94 1778.26,1063.85 1798.78,1057.73 1819.29,1049.49 1839.81,1039.05 1860.33,1026.32 \n",
       "  1880.85,1011.24 1901.36,993.711 1921.88,973.657 1942.4,950.996 1962.92,925.647 1983.44,897.528 2003.95,866.558 2024.47,832.656 2044.99,795.739 2065.51,755.726 \n",
       "  2086.02,712.536 2106.54,666.088 2127.06,616.3 2147.58,563.09 2168.1,506.377 2188.61,446.08 2209.13,382.117 2229.65,314.406 2250.17,242.867 2270.68,167.418 \n",
       "  2291.2,87.9763 \n",
       "  \"/>\n",
       "<path clip-path=\"url(#clip660)\" d=\"\n",
       "M1986.18 198.898 L2280.26 198.898 L2280.26 95.2176 L1986.18 95.2176  Z\n",
       "  \" fill=\"#ffffff\" fill-rule=\"evenodd\" fill-opacity=\"1\"/>\n",
       "<polyline clip-path=\"url(#clip660)\" style=\"stroke:#000000; stroke-linecap:butt; stroke-linejoin:round; stroke-width:4; stroke-opacity:1; fill:none\" points=\"\n",
       "  1986.18,198.898 2280.26,198.898 2280.26,95.2176 1986.18,95.2176 1986.18,198.898 \n",
       "  \"/>\n",
       "<polyline clip-path=\"url(#clip660)\" style=\"stroke:#009af9; stroke-linecap:butt; stroke-linejoin:round; stroke-width:4; stroke-opacity:1; fill:none\" points=\"\n",
       "  2010.34,147.058 2155.33,147.058 \n",
       "  \"/>\n",
       "<path clip-path=\"url(#clip660)\" d=\"M2193.34 166.745 Q2191.54 171.375 2189.82 172.787 Q2188.11 174.199 2185.24 174.199 L2181.84 174.199 L2181.84 170.634 L2184.34 170.634 Q2186.1 170.634 2187.07 169.8 Q2188.04 168.967 2189.22 165.865 L2189.98 163.921 L2179.5 138.412 L2184.01 138.412 L2192.11 158.689 L2200.22 138.412 L2204.73 138.412 L2193.34 166.745 Z\" fill=\"#000000\" fill-rule=\"evenodd\" fill-opacity=\"1\" /><path clip-path=\"url(#clip660)\" d=\"M2212.02 160.402 L2219.66 160.402 L2219.66 134.037 L2211.35 135.703 L2211.35 131.444 L2219.61 129.778 L2224.29 129.778 L2224.29 160.402 L2231.93 160.402 L2231.93 164.338 L2212.02 164.338 L2212.02 160.402 Z\" fill=\"#000000\" fill-rule=\"evenodd\" fill-opacity=\"1\" /></svg>\n"
      ]
     },
     "execution_count": 49,
     "metadata": {},
     "output_type": "execute_result"
    }
   ],
   "source": [
    "f(x) = x^3 -15*x + 12\n",
    "plot(f, -5:0.1:5)"
   ]
  },
  {
   "cell_type": "code",
   "execution_count": null,
   "id": "1e3b0c2e",
   "metadata": {},
   "outputs": [],
   "source": []
  },
  {
   "cell_type": "code",
   "execution_count": null,
   "id": "bc346d6b",
   "metadata": {},
   "outputs": [],
   "source": []
  },
  {
   "cell_type": "code",
   "execution_count": 27,
   "id": "a268a6e4",
   "metadata": {},
   "outputs": [
    {
     "name": "stdout",
     "output_type": "stream",
     "text": [
      "x1: 3, x2: 4\n",
      "secant function: y = 22.0*x + -72.0\n",
      "x intercept = 3.272727272727273\n"
     ]
    },
    {
     "data": {
      "text/plain": [
       "3.272727272727273"
      ]
     },
     "execution_count": 27,
     "metadata": {},
     "output_type": "execute_result"
    }
   ],
   "source": [
    "f(x) = x^3 -15*x + 12\n",
    "\n",
    "# after substituting all these formulas we can get:\n",
    "# x_intercept = x1 - y1 * (x1-x2) / (y1-y2)\n",
    "function find_x_intercept(f, x1, x2)\n",
    "    x_intercept = 0\n",
    "    println(\"x1: $(x1), x2: $(x2)\")\n",
    "    y1, y2 = f(x1), f(x2)\n",
    "\n",
    "    # line equation: y = k*x + b\n",
    "    k = (y1-y2) / (x1-x2)\n",
    "    b = y1 - k*x1\n",
    "\n",
    "    println(\"secant function: y = $(k)*x + $(b)\")\n",
    "    # find x-intercept, with 0 = kx + b\n",
    "    x_intercept = -b / k\n",
    "    println(\"x intercept = $(x_intercept)\")\n",
    "\n",
    "    return x_intercept\n",
    "end\n",
    "\n",
    "find_x_intercept(f, 3, 4)"
   ]
  },
  {
   "cell_type": "code",
   "execution_count": 31,
   "id": "81fc3ad4",
   "metadata": {},
   "outputs": [
    {
     "name": "stdout",
     "output_type": "stream",
     "text": [
      "x1: 3, x2: 4\n",
      "secant function: y = 22.0*x + -72.0\n",
      "x intercept = 3.272727272727273\n",
      "0: x1=3, x2=4, x_intercept=3.272727272727273\n",
      "\n",
      "x1: 3, x2: 3.272727272727273\n",
      "secant function: y = 14.528925619834714*x + -49.58677685950414\n",
      "x intercept = 3.41296928327645\n",
      "1: x1=3, x2=3.272727272727273, x_intercept=3.41296928327645\n",
      "\n",
      "x1: 3.272727272727273, x2: 3.41296928327645\n",
      "secant function: y = 18.528820784600807*x + -62.67734285328408\n",
      "x intercept = 3.382694645380501\n",
      "2: x1=3.272727272727273, x2=3.41296928327645, x_intercept=3.382694645380501\n",
      "\n",
      "x1: 3.41296928327645, x2: 3.382694645380501\n",
      "secant function: y = 19.636015311862074*x + -66.45616376543859\n",
      "x intercept = 3.384401708288166\n",
      "3: x1=3.41296928327645, x2=3.382694645380501, x_intercept=3.384401708288166\n",
      "\n",
      "x1: 3.382694645380501, x2: 3.384401708288166\n",
      "secant function: y = 19.345195523392057*x + -65.47240922421037\n",
      "x intercept = 3.3844273708705424\n",
      "4: x1=3.382694645380501, x2=3.384401708288166, x_intercept=3.3844273708705424\n",
      "\n",
      "x1: 3.384401708288166, x2: 3.3844273708705424\n",
      "secant function: y = 19.362785327183182*x + -65.53194018620951\n",
      "x intercept = 3.384427347557792\n",
      "5: x1=3.384401708288166, x2=3.3844273708705424, x_intercept=3.384427347557792\n",
      "\n",
      "Reached desired tolerance - root found!\n"
     ]
    },
    {
     "data": {
      "text/plain": [
       "3.384427347557792"
      ]
     },
     "execution_count": 31,
     "metadata": {},
     "output_type": "execute_result"
    }
   ],
   "source": [
    "f(x) = x^3 -15*x + 12\n",
    "\n",
    "function choose_point_with_shortest_distance_to_intercept(x1, x2, x_intercept)\n",
    "    if abs(x_intercept - x1) < abs(x_intercept - x2)\n",
    "        return x1\n",
    "    else\n",
    "        return x2\n",
    "    end\n",
    "end\n",
    "\n",
    "function secant(f, x1, x2, iterations=4, tolerance=10^-5)\n",
    "    i = 0\n",
    "    x_intercept = 0\n",
    "    while i < iterations\n",
    "        x_intercept = find_x_intercept(f, x1, x2)\n",
    "        println(\"$(i): x1=$(x1), x2=$(x2), x_intercept=$(x_intercept)\\n\")\n",
    "        if abs(x_intercept - x2) <= tolerance\n",
    "            println(\"Reached desired tolerance - root found!\")\n",
    "            return x_intercept\n",
    "        end\n",
    "        \n",
    "        x1 = choose_point_with_shortest_distance_to_intercept(x1, x2, x_intercept)\n",
    "        x2 = x_intercept\n",
    "        i += 1\n",
    "    end\n",
    "    return x_intercept\n",
    "end\n",
    "\n",
    "secant(f, 3, 4, 10)"
   ]
  },
  {
   "cell_type": "markdown",
   "id": "e17216d5",
   "metadata": {},
   "source": [
    "### Secant practice problems"
   ]
  },
  {
   "cell_type": "markdown",
   "id": "eaebff39",
   "metadata": {},
   "source": [
    "### 1"
   ]
  },
  {
   "cell_type": "code",
   "execution_count": 36,
   "id": "3c54a240",
   "metadata": {},
   "outputs": [
    {
     "name": "stdout",
     "output_type": "stream",
     "text": [
      "x1: 1, x2: 2\n",
      "secant function: y = 5.0*x + -9.0\n",
      "x intercept = 1.8\n",
      "0: x1=1, x2=2, x_intercept=1.8\n",
      "\n",
      "x1: 2, x2: 1.8\n",
      "secant function: y = 4.36*x + -7.720000000000001\n",
      "x intercept = 1.7706422018348624\n",
      "1: x1=2, x2=1.8, x_intercept=1.7706422018348624\n",
      "\n",
      "x1: 1.8, x2: 1.7706422018348624\n",
      "secant function: y = 4.72023903711808*x + -8.368430266812544\n",
      "x intercept = 1.7728827292445448\n",
      "2: x1=1.8, x2=1.7706422018348624, x_intercept=1.7728827292445448\n",
      "\n",
      "x1: 1.7706422018348624, x2: 1.7728827292445448\n",
      "secant function: y = 4.756671766440956*x + -8.432939594879656\n",
      "x intercept = 1.772865568394971\n",
      "3: x1=1.7706422018348624, x2=1.7728827292445448, x_intercept=1.772865568394971\n",
      "\n"
     ]
    },
    {
     "data": {
      "text/plain": [
       "1.772865568394971"
      ]
     },
     "execution_count": 36,
     "metadata": {},
     "output_type": "execute_result"
    }
   ],
   "source": [
    "f(x) = -x^3 + 4*x^2 - 7\n",
    "secant(f, 1,2)\n"
   ]
  },
  {
   "cell_type": "markdown",
   "id": "17fd7ca7",
   "metadata": {},
   "source": [
    "## 2"
   ]
  },
  {
   "cell_type": "code",
   "execution_count": 48,
   "id": "22ba1639",
   "metadata": {},
   "outputs": [
    {
     "data": {
      "image/svg+xml": [
       "<?xml version=\"1.0\" encoding=\"utf-8\"?>\n",
       "<svg xmlns=\"http://www.w3.org/2000/svg\" xmlns:xlink=\"http://www.w3.org/1999/xlink\" width=\"600\" height=\"400\" viewBox=\"0 0 2400 1600\">\n",
       "<defs>\n",
       "  <clipPath id=\"clip620\">\n",
       "    <rect x=\"0\" y=\"0\" width=\"2400\" height=\"1600\"/>\n",
       "  </clipPath>\n",
       "</defs>\n",
       "<path clip-path=\"url(#clip620)\" d=\"\n",
       "M0 1600 L2400 1600 L2400 0 L0 0  Z\n",
       "  \" fill=\"#ffffff\" fill-rule=\"evenodd\" fill-opacity=\"1\"/>\n",
       "<defs>\n",
       "  <clipPath id=\"clip621\">\n",
       "    <rect x=\"480\" y=\"0\" width=\"1681\" height=\"1600\"/>\n",
       "  </clipPath>\n",
       "</defs>\n",
       "<path clip-path=\"url(#clip620)\" d=\"\n",
       "M178.867 1486.45 L2352.76 1486.45 L2352.76 47.2441 L178.867 47.2441  Z\n",
       "  \" fill=\"#ffffff\" fill-rule=\"evenodd\" fill-opacity=\"1\"/>\n",
       "<defs>\n",
       "  <clipPath id=\"clip622\">\n",
       "    <rect x=\"178\" y=\"47\" width=\"2175\" height=\"1440\"/>\n",
       "  </clipPath>\n",
       "</defs>\n",
       "<polyline clip-path=\"url(#clip622)\" style=\"stroke:#000000; stroke-linecap:butt; stroke-linejoin:round; stroke-width:2; stroke-opacity:0.1; fill:none\" points=\"\n",
       "  240.392,1486.45 240.392,47.2441 \n",
       "  \"/>\n",
       "<polyline clip-path=\"url(#clip622)\" style=\"stroke:#000000; stroke-linecap:butt; stroke-linejoin:round; stroke-width:2; stroke-opacity:0.1; fill:none\" points=\"\n",
       "  650.56,1486.45 650.56,47.2441 \n",
       "  \"/>\n",
       "<polyline clip-path=\"url(#clip622)\" style=\"stroke:#000000; stroke-linecap:butt; stroke-linejoin:round; stroke-width:2; stroke-opacity:0.1; fill:none\" points=\"\n",
       "  1060.73,1486.45 1060.73,47.2441 \n",
       "  \"/>\n",
       "<polyline clip-path=\"url(#clip622)\" style=\"stroke:#000000; stroke-linecap:butt; stroke-linejoin:round; stroke-width:2; stroke-opacity:0.1; fill:none\" points=\"\n",
       "  1470.9,1486.45 1470.9,47.2441 \n",
       "  \"/>\n",
       "<polyline clip-path=\"url(#clip622)\" style=\"stroke:#000000; stroke-linecap:butt; stroke-linejoin:round; stroke-width:2; stroke-opacity:0.1; fill:none\" points=\"\n",
       "  1881.06,1486.45 1881.06,47.2441 \n",
       "  \"/>\n",
       "<polyline clip-path=\"url(#clip622)\" style=\"stroke:#000000; stroke-linecap:butt; stroke-linejoin:round; stroke-width:2; stroke-opacity:0.1; fill:none\" points=\"\n",
       "  2291.23,1486.45 2291.23,47.2441 \n",
       "  \"/>\n",
       "<polyline clip-path=\"url(#clip620)\" style=\"stroke:#000000; stroke-linecap:butt; stroke-linejoin:round; stroke-width:4; stroke-opacity:1; fill:none\" points=\"\n",
       "  178.867,1486.45 2352.76,1486.45 \n",
       "  \"/>\n",
       "<polyline clip-path=\"url(#clip620)\" style=\"stroke:#000000; stroke-linecap:butt; stroke-linejoin:round; stroke-width:4; stroke-opacity:1; fill:none\" points=\"\n",
       "  240.392,1486.45 240.392,1467.55 \n",
       "  \"/>\n",
       "<polyline clip-path=\"url(#clip620)\" style=\"stroke:#000000; stroke-linecap:butt; stroke-linejoin:round; stroke-width:4; stroke-opacity:1; fill:none\" points=\"\n",
       "  650.56,1486.45 650.56,1467.55 \n",
       "  \"/>\n",
       "<polyline clip-path=\"url(#clip620)\" style=\"stroke:#000000; stroke-linecap:butt; stroke-linejoin:round; stroke-width:4; stroke-opacity:1; fill:none\" points=\"\n",
       "  1060.73,1486.45 1060.73,1467.55 \n",
       "  \"/>\n",
       "<polyline clip-path=\"url(#clip620)\" style=\"stroke:#000000; stroke-linecap:butt; stroke-linejoin:round; stroke-width:4; stroke-opacity:1; fill:none\" points=\"\n",
       "  1470.9,1486.45 1470.9,1467.55 \n",
       "  \"/>\n",
       "<polyline clip-path=\"url(#clip620)\" style=\"stroke:#000000; stroke-linecap:butt; stroke-linejoin:round; stroke-width:4; stroke-opacity:1; fill:none\" points=\"\n",
       "  1881.06,1486.45 1881.06,1467.55 \n",
       "  \"/>\n",
       "<polyline clip-path=\"url(#clip620)\" style=\"stroke:#000000; stroke-linecap:butt; stroke-linejoin:round; stroke-width:4; stroke-opacity:1; fill:none\" points=\"\n",
       "  2291.23,1486.45 2291.23,1467.55 \n",
       "  \"/>\n",
       "<path clip-path=\"url(#clip620)\" d=\"M210.334 1530.29 L240.01 1530.29 L240.01 1534.23 L210.334 1534.23 L210.334 1530.29 Z\" fill=\"#000000\" fill-rule=\"evenodd\" fill-opacity=\"1\" /><path clip-path=\"url(#clip620)\" d=\"M254.13 1543.18 L270.45 1543.18 L270.45 1547.12 L248.505 1547.12 L248.505 1543.18 Q251.167 1540.43 255.751 1535.8 Q260.357 1531.15 261.538 1529.81 Q263.783 1527.28 264.663 1525.55 Q265.565 1523.79 265.565 1522.1 Q265.565 1519.34 263.621 1517.61 Q261.7 1515.87 258.598 1515.87 Q256.399 1515.87 253.945 1516.63 Q251.514 1517.4 248.737 1518.95 L248.737 1514.23 Q251.561 1513.09 254.014 1512.51 Q256.468 1511.93 258.505 1511.93 Q263.875 1511.93 267.07 1514.62 Q270.264 1517.31 270.264 1521.8 Q270.264 1523.93 269.454 1525.85 Q268.667 1527.74 266.561 1530.34 Q265.982 1531.01 262.88 1534.23 Q259.778 1537.42 254.13 1543.18 Z\" fill=\"#000000\" fill-rule=\"evenodd\" fill-opacity=\"1\" /><path clip-path=\"url(#clip620)\" d=\"M620.317 1530.29 L649.992 1530.29 L649.992 1534.23 L620.317 1534.23 L620.317 1530.29 Z\" fill=\"#000000\" fill-rule=\"evenodd\" fill-opacity=\"1\" /><path clip-path=\"url(#clip620)\" d=\"M660.895 1543.18 L668.534 1543.18 L668.534 1516.82 L660.224 1518.49 L660.224 1514.23 L668.488 1512.56 L673.164 1512.56 L673.164 1543.18 L680.802 1543.18 L680.802 1547.12 L660.895 1547.12 L660.895 1543.18 Z\" fill=\"#000000\" fill-rule=\"evenodd\" fill-opacity=\"1\" /><path clip-path=\"url(#clip620)\" d=\"M1060.73 1515.64 Q1057.12 1515.64 1055.29 1519.2 Q1053.48 1522.75 1053.48 1529.87 Q1053.48 1536.98 1055.29 1540.55 Q1057.12 1544.09 1060.73 1544.09 Q1064.36 1544.09 1066.17 1540.55 Q1068 1536.98 1068 1529.87 Q1068 1522.75 1066.17 1519.2 Q1064.36 1515.64 1060.73 1515.64 M1060.73 1511.93 Q1066.54 1511.93 1069.59 1516.54 Q1072.67 1521.12 1072.67 1529.87 Q1072.67 1538.6 1069.59 1543.21 Q1066.54 1547.79 1060.73 1547.79 Q1054.92 1547.79 1051.84 1543.21 Q1048.78 1538.6 1048.78 1529.87 Q1048.78 1521.12 1051.84 1516.54 Q1054.92 1511.93 1060.73 1511.93 Z\" fill=\"#000000\" fill-rule=\"evenodd\" fill-opacity=\"1\" /><path clip-path=\"url(#clip620)\" d=\"M1461.28 1543.18 L1468.92 1543.18 L1468.92 1516.82 L1460.61 1518.49 L1460.61 1514.23 L1468.87 1512.56 L1473.55 1512.56 L1473.55 1543.18 L1481.18 1543.18 L1481.18 1547.12 L1461.28 1547.12 L1461.28 1543.18 Z\" fill=\"#000000\" fill-rule=\"evenodd\" fill-opacity=\"1\" /><path clip-path=\"url(#clip620)\" d=\"M1875.72 1543.18 L1892.04 1543.18 L1892.04 1547.12 L1870.09 1547.12 L1870.09 1543.18 Q1872.75 1540.43 1877.34 1535.8 Q1881.94 1531.15 1883.12 1529.81 Q1885.37 1527.28 1886.25 1525.55 Q1887.15 1523.79 1887.15 1522.1 Q1887.15 1519.34 1885.21 1517.61 Q1883.29 1515.87 1880.18 1515.87 Q1877.98 1515.87 1875.53 1516.63 Q1873.1 1517.4 1870.32 1518.95 L1870.32 1514.23 Q1873.15 1513.09 1875.6 1512.51 Q1878.05 1511.93 1880.09 1511.93 Q1885.46 1511.93 1888.66 1514.62 Q1891.85 1517.31 1891.85 1521.8 Q1891.85 1523.93 1891.04 1525.85 Q1890.25 1527.74 1888.15 1530.34 Q1887.57 1531.01 1884.47 1534.23 Q1881.36 1537.42 1875.72 1543.18 Z\" fill=\"#000000\" fill-rule=\"evenodd\" fill-opacity=\"1\" /><path clip-path=\"url(#clip620)\" d=\"M2295.48 1528.49 Q2298.83 1529.2 2300.71 1531.47 Q2302.61 1533.74 2302.61 1537.07 Q2302.61 1542.19 2299.09 1544.99 Q2295.57 1547.79 2289.09 1547.79 Q2286.91 1547.79 2284.6 1547.35 Q2282.31 1546.93 2279.85 1546.08 L2279.85 1541.56 Q2281.8 1542.7 2284.11 1543.28 Q2286.43 1543.86 2288.95 1543.86 Q2293.35 1543.86 2295.64 1542.12 Q2297.96 1540.38 2297.96 1537.07 Q2297.96 1534.02 2295.8 1532.31 Q2293.67 1530.57 2289.85 1530.57 L2285.83 1530.57 L2285.83 1526.73 L2290.04 1526.73 Q2293.49 1526.73 2295.32 1525.36 Q2297.15 1523.97 2297.15 1521.38 Q2297.15 1518.72 2295.25 1517.31 Q2293.37 1515.87 2289.85 1515.87 Q2287.93 1515.87 2285.73 1516.29 Q2283.53 1516.7 2280.9 1517.58 L2280.9 1513.42 Q2283.56 1512.68 2285.87 1512.31 Q2288.21 1511.93 2290.27 1511.93 Q2295.59 1511.93 2298.7 1514.37 Q2301.8 1516.77 2301.8 1520.89 Q2301.8 1523.76 2300.15 1525.75 Q2298.51 1527.72 2295.48 1528.49 Z\" fill=\"#000000\" fill-rule=\"evenodd\" fill-opacity=\"1\" /><polyline clip-path=\"url(#clip622)\" style=\"stroke:#000000; stroke-linecap:butt; stroke-linejoin:round; stroke-width:2; stroke-opacity:0.1; fill:none\" points=\"\n",
       "  178.867,1351.74 2352.76,1351.74 \n",
       "  \"/>\n",
       "<polyline clip-path=\"url(#clip622)\" style=\"stroke:#000000; stroke-linecap:butt; stroke-linejoin:round; stroke-width:2; stroke-opacity:0.1; fill:none\" points=\"\n",
       "  178.867,930.484 2352.76,930.484 \n",
       "  \"/>\n",
       "<polyline clip-path=\"url(#clip622)\" style=\"stroke:#000000; stroke-linecap:butt; stroke-linejoin:round; stroke-width:2; stroke-opacity:0.1; fill:none\" points=\"\n",
       "  178.867,509.23 2352.76,509.23 \n",
       "  \"/>\n",
       "<polyline clip-path=\"url(#clip622)\" style=\"stroke:#000000; stroke-linecap:butt; stroke-linejoin:round; stroke-width:2; stroke-opacity:0.1; fill:none\" points=\"\n",
       "  178.867,87.9763 2352.76,87.9763 \n",
       "  \"/>\n",
       "<polyline clip-path=\"url(#clip620)\" style=\"stroke:#000000; stroke-linecap:butt; stroke-linejoin:round; stroke-width:4; stroke-opacity:1; fill:none\" points=\"\n",
       "  178.867,1486.45 178.867,47.2441 \n",
       "  \"/>\n",
       "<polyline clip-path=\"url(#clip620)\" style=\"stroke:#000000; stroke-linecap:butt; stroke-linejoin:round; stroke-width:4; stroke-opacity:1; fill:none\" points=\"\n",
       "  178.867,1351.74 197.764,1351.74 \n",
       "  \"/>\n",
       "<polyline clip-path=\"url(#clip620)\" style=\"stroke:#000000; stroke-linecap:butt; stroke-linejoin:round; stroke-width:4; stroke-opacity:1; fill:none\" points=\"\n",
       "  178.867,930.484 197.764,930.484 \n",
       "  \"/>\n",
       "<polyline clip-path=\"url(#clip620)\" style=\"stroke:#000000; stroke-linecap:butt; stroke-linejoin:round; stroke-width:4; stroke-opacity:1; fill:none\" points=\"\n",
       "  178.867,509.23 197.764,509.23 \n",
       "  \"/>\n",
       "<polyline clip-path=\"url(#clip620)\" style=\"stroke:#000000; stroke-linecap:butt; stroke-linejoin:round; stroke-width:4; stroke-opacity:1; fill:none\" points=\"\n",
       "  178.867,87.9763 197.764,87.9763 \n",
       "  \"/>\n",
       "<path clip-path=\"url(#clip620)\" d=\"M50.9921 1352.19 L80.6679 1352.19 L80.6679 1356.12 L50.9921 1356.12 L50.9921 1352.19 Z\" fill=\"#000000\" fill-rule=\"evenodd\" fill-opacity=\"1\" /><path clip-path=\"url(#clip620)\" d=\"M91.5706 1365.08 L99.2095 1365.08 L99.2095 1338.72 L90.8993 1340.38 L90.8993 1336.12 L99.1632 1334.46 L103.839 1334.46 L103.839 1365.08 L111.478 1365.08 L111.478 1369.02 L91.5706 1369.02 L91.5706 1365.08 Z\" fill=\"#000000\" fill-rule=\"evenodd\" fill-opacity=\"1\" /><path clip-path=\"url(#clip620)\" d=\"M130.922 1337.54 Q127.311 1337.54 125.482 1341.1 Q123.677 1344.64 123.677 1351.77 Q123.677 1358.88 125.482 1362.44 Q127.311 1365.99 130.922 1365.99 Q134.556 1365.99 136.362 1362.44 Q138.191 1358.88 138.191 1351.77 Q138.191 1344.64 136.362 1341.1 Q134.556 1337.54 130.922 1337.54 M130.922 1333.83 Q136.732 1333.83 139.788 1338.44 Q142.867 1343.02 142.867 1351.77 Q142.867 1360.5 139.788 1365.11 Q136.732 1369.69 130.922 1369.69 Q125.112 1369.69 122.033 1365.11 Q118.978 1360.5 118.978 1351.77 Q118.978 1343.02 122.033 1338.44 Q125.112 1333.83 130.922 1333.83 Z\" fill=\"#000000\" fill-rule=\"evenodd\" fill-opacity=\"1\" /><path clip-path=\"url(#clip620)\" d=\"M130.922 916.283 Q127.311 916.283 125.482 919.848 Q123.677 923.389 123.677 930.519 Q123.677 937.625 125.482 941.19 Q127.311 944.732 130.922 944.732 Q134.556 944.732 136.362 941.19 Q138.191 937.625 138.191 930.519 Q138.191 923.389 136.362 919.848 Q134.556 916.283 130.922 916.283 M130.922 912.579 Q136.732 912.579 139.788 917.186 Q142.867 921.769 142.867 930.519 Q142.867 939.246 139.788 943.852 Q136.732 948.435 130.922 948.435 Q125.112 948.435 122.033 943.852 Q118.978 939.246 118.978 930.519 Q118.978 921.769 122.033 917.186 Q125.112 912.579 130.922 912.579 Z\" fill=\"#000000\" fill-rule=\"evenodd\" fill-opacity=\"1\" /><path clip-path=\"url(#clip620)\" d=\"M91.5706 522.575 L99.2095 522.575 L99.2095 496.209 L90.8993 497.876 L90.8993 493.617 L99.1632 491.95 L103.839 491.95 L103.839 522.575 L111.478 522.575 L111.478 526.51 L91.5706 526.51 L91.5706 522.575 Z\" fill=\"#000000\" fill-rule=\"evenodd\" fill-opacity=\"1\" /><path clip-path=\"url(#clip620)\" d=\"M130.922 495.029 Q127.311 495.029 125.482 498.594 Q123.677 502.135 123.677 509.265 Q123.677 516.371 125.482 519.936 Q127.311 523.478 130.922 523.478 Q134.556 523.478 136.362 519.936 Q138.191 516.371 138.191 509.265 Q138.191 502.135 136.362 498.594 Q134.556 495.029 130.922 495.029 M130.922 491.325 Q136.732 491.325 139.788 495.932 Q142.867 500.515 142.867 509.265 Q142.867 517.992 139.788 522.598 Q136.732 527.182 130.922 527.182 Q125.112 527.182 122.033 522.598 Q118.978 517.992 118.978 509.265 Q118.978 500.515 122.033 495.932 Q125.112 491.325 130.922 491.325 Z\" fill=\"#000000\" fill-rule=\"evenodd\" fill-opacity=\"1\" /><path clip-path=\"url(#clip620)\" d=\"M94.7882 101.321 L111.108 101.321 L111.108 105.256 L89.1632 105.256 L89.1632 101.321 Q91.8252 98.5665 96.4085 93.9369 Q101.015 89.2841 102.196 87.9416 Q104.441 85.4184 105.321 83.6823 Q106.223 81.9231 106.223 80.2333 Q106.223 77.4786 104.279 75.7425 Q102.358 74.0064 99.2558 74.0064 Q97.0567 74.0064 94.603 74.7703 Q92.1725 75.5342 89.3947 77.0851 L89.3947 72.3629 Q92.2188 71.2287 94.6724 70.65 Q97.1261 70.0713 99.1632 70.0713 Q104.534 70.0713 107.728 72.7565 Q110.922 75.4416 110.922 79.9323 Q110.922 82.062 110.112 83.9832 Q109.325 85.8814 107.219 88.474 Q106.64 89.1453 103.538 92.3628 Q100.436 95.5573 94.7882 101.321 Z\" fill=\"#000000\" fill-rule=\"evenodd\" fill-opacity=\"1\" /><path clip-path=\"url(#clip620)\" d=\"M130.922 73.775 Q127.311 73.775 125.482 77.3398 Q123.677 80.8814 123.677 88.011 Q123.677 95.1174 125.482 98.6822 Q127.311 102.224 130.922 102.224 Q134.556 102.224 136.362 98.6822 Q138.191 95.1174 138.191 88.011 Q138.191 80.8814 136.362 77.3398 Q134.556 73.775 130.922 73.775 M130.922 70.0713 Q136.732 70.0713 139.788 74.6777 Q142.867 79.261 142.867 88.011 Q142.867 96.7378 139.788 101.344 Q136.732 105.928 130.922 105.928 Q125.112 105.928 122.033 101.344 Q118.978 96.7378 118.978 88.011 Q118.978 79.261 122.033 74.6777 Q125.112 70.0713 130.922 70.0713 Z\" fill=\"#000000\" fill-rule=\"evenodd\" fill-opacity=\"1\" /><polyline clip-path=\"url(#clip622)\" style=\"stroke:#009af9; stroke-linecap:butt; stroke-linejoin:round; stroke-width:4; stroke-opacity:1; fill:none\" points=\"\n",
       "  240.392,87.9763 281.409,336.133 322.425,551.625 363.442,737.082 404.459,895.031 445.476,1027.9 486.492,1138.01 527.509,1227.59 568.526,1298.76 609.543,1353.55 \n",
       "  650.56,1393.86 691.576,1421.54 732.593,1438.28 773.61,1445.72 814.627,1445.36 855.643,1438.62 896.66,1426.82 937.677,1411.17 978.694,1392.79 1019.71,1372.67 \n",
       "  1060.73,1351.74 1101.74,1330.8 1142.76,1310.56 1183.78,1291.62 1224.79,1274.5 1265.81,1259.59 1306.83,1247.2 1347.84,1237.53 1388.86,1230.69 1429.88,1226.66 \n",
       "  1470.9,1225.36 1511.91,1226.58 1552.93,1230.01 1593.95,1235.26 1634.96,1241.81 1675.98,1249.06 1717,1256.3 1758.01,1262.72 1799.03,1267.42 1840.05,1269.38 \n",
       "  1881.06,1267.49 1922.08,1260.53 1963.1,1247.2 2004.11,1226.07 2045.13,1195.64 2086.15,1154.28 2127.16,1100.27 2168.18,1031.79 2209.2,946.93 2250.21,843.66 \n",
       "  2291.23,719.857 \n",
       "  \"/>\n",
       "<path clip-path=\"url(#clip620)\" d=\"\n",
       "M1986.32 198.898 L2280.29 198.898 L2280.29 95.2176 L1986.32 95.2176  Z\n",
       "  \" fill=\"#ffffff\" fill-rule=\"evenodd\" fill-opacity=\"1\"/>\n",
       "<polyline clip-path=\"url(#clip620)\" style=\"stroke:#000000; stroke-linecap:butt; stroke-linejoin:round; stroke-width:4; stroke-opacity:1; fill:none\" points=\"\n",
       "  1986.32,198.898 2280.29,198.898 2280.29,95.2176 1986.32,95.2176 1986.32,198.898 \n",
       "  \"/>\n",
       "<polyline clip-path=\"url(#clip620)\" style=\"stroke:#009af9; stroke-linecap:butt; stroke-linejoin:round; stroke-width:4; stroke-opacity:1; fill:none\" points=\"\n",
       "  2010.47,147.058 2155.4,147.058 \n",
       "  \"/>\n",
       "<path clip-path=\"url(#clip620)\" d=\"M2193.4 166.745 Q2191.59 171.375 2189.88 172.787 Q2188.17 174.199 2185.29 174.199 L2181.89 174.199 L2181.89 170.634 L2184.39 170.634 Q2186.15 170.634 2187.12 169.8 Q2188.1 168.967 2189.28 165.865 L2190.04 163.921 L2179.55 138.412 L2184.07 138.412 L2192.17 158.689 L2200.27 138.412 L2204.79 138.412 L2193.4 166.745 Z\" fill=\"#000000\" fill-rule=\"evenodd\" fill-opacity=\"1\" /><path clip-path=\"url(#clip620)\" d=\"M2212.08 160.402 L2219.72 160.402 L2219.72 134.037 L2211.41 135.703 L2211.41 131.444 L2219.67 129.778 L2224.35 129.778 L2224.35 160.402 L2231.98 160.402 L2231.98 164.338 L2212.08 164.338 L2212.08 160.402 Z\" fill=\"#000000\" fill-rule=\"evenodd\" fill-opacity=\"1\" /></svg>\n"
      ]
     },
     "execution_count": 48,
     "metadata": {},
     "output_type": "execute_result"
    }
   ],
   "source": [
    "f(x) = x^4 - 3*x^3 + 5*x - 10\n",
    "plot(f, -2:0.1:3)"
   ]
  },
  {
   "cell_type": "code",
   "execution_count": 51,
   "id": "2d0f6684",
   "metadata": {},
   "outputs": [
    {
     "name": "stdout",
     "output_type": "stream",
     "text": [
      "x1: 2, x2: 3\n",
      "secant function: y = 4.0*x + -18.0\n",
      "x intercept = 4.5\n",
      "0: x1=2, x2=3, x_intercept=4.5\n",
      "\n",
      "x1: 3, x2: 4.5\n",
      "secant function: y = 27.75*x + -89.25\n",
      "x intercept = 3.2162162162162162\n",
      "1: x1=3, x2=4.5, x_intercept=3.2162162162162162\n",
      "\n",
      "x1: 3, x2: 3.2162162162162162\n",
      "secant function: y = 13.992695398100809*x + -47.97808619430243\n",
      "x intercept = 3.428795155564836\n",
      "2: x1=3, x2=3.2162162162162162, x_intercept=3.428795155564836\n",
      "\n",
      "x1: 3.2162162162162162, x2: 3.428795155564836\n",
      "secant function: y = 18.12842954968826*x + -61.2795014385972\n",
      "x intercept = 3.3802984020560665\n",
      "3: x1=3.2162162162162162, x2=3.428795155564836, x_intercept=3.3802984020560665\n",
      "\n",
      "x1: 3.428795155564836, x2: 3.3802984020560665\n",
      "secant function: y = 19.773404291101052*x + -66.9197828629799\n",
      "x intercept = 3.3843329088808902\n",
      "4: x1=3.428795155564836, x2=3.3802984020560665, x_intercept=3.3843329088808902\n",
      "\n",
      "x1: 3.3802984020560665, x2: 3.3843329088808902\n",
      "secant function: y = 19.32018164899407*x + -65.38775509009004\n",
      "x intercept = 3.384427552392839\n",
      "5: x1=3.3802984020560665, x2=3.3843329088808902, x_intercept=3.384427552392839\n",
      "\n",
      "x1: 3.3843329088808902, x2: 3.384427552392839\n",
      "secant function: y = 19.362088638745075*x + -65.52958229461649\n",
      "x intercept = 3.3844273475479603\n",
      "6: x1=3.3843329088808902, x2=3.384427552392839, x_intercept=3.3844273475479603\n",
      "\n",
      "Reached desired tolerance - root found!\n"
     ]
    },
    {
     "data": {
      "text/plain": [
       "3.3844273475479603"
      ]
     },
     "execution_count": 51,
     "metadata": {},
     "output_type": "execute_result"
    }
   ],
   "source": [
    "secant(f, 2,3, 10)"
   ]
  },
  {
   "cell_type": "markdown",
   "id": "4d4f280a",
   "metadata": {},
   "source": [
    "### 3"
   ]
  },
  {
   "cell_type": "code",
   "execution_count": 59,
   "id": "60e2ca3d",
   "metadata": {},
   "outputs": [
    {
     "data": {
      "text/plain": [
       "f (generic function with 1 method)"
      ]
     },
     "execution_count": 59,
     "metadata": {},
     "output_type": "execute_result"
    }
   ],
   "source": [
    "f(x) = exp(1)^(2*x) - 3 - 4*sin(x)"
   ]
  },
  {
   "cell_type": "code",
   "execution_count": 64,
   "id": "25b666c3",
   "metadata": {},
   "outputs": [
    {
     "data": {
      "image/svg+xml": [
       "<?xml version=\"1.0\" encoding=\"utf-8\"?>\n",
       "<svg xmlns=\"http://www.w3.org/2000/svg\" xmlns:xlink=\"http://www.w3.org/1999/xlink\" width=\"600\" height=\"400\" viewBox=\"0 0 2400 1600\">\n",
       "<defs>\n",
       "  <clipPath id=\"clip860\">\n",
       "    <rect x=\"0\" y=\"0\" width=\"2400\" height=\"1600\"/>\n",
       "  </clipPath>\n",
       "</defs>\n",
       "<path clip-path=\"url(#clip860)\" d=\"\n",
       "M0 1600 L2400 1600 L2400 0 L0 0  Z\n",
       "  \" fill=\"#ffffff\" fill-rule=\"evenodd\" fill-opacity=\"1\"/>\n",
       "<defs>\n",
       "  <clipPath id=\"clip861\">\n",
       "    <rect x=\"480\" y=\"0\" width=\"1681\" height=\"1600\"/>\n",
       "  </clipPath>\n",
       "</defs>\n",
       "<path clip-path=\"url(#clip860)\" d=\"\n",
       "M141.853 1486.45 L2352.76 1486.45 L2352.76 47.2441 L141.853 47.2441  Z\n",
       "  \" fill=\"#ffffff\" fill-rule=\"evenodd\" fill-opacity=\"1\"/>\n",
       "<defs>\n",
       "  <clipPath id=\"clip862\">\n",
       "    <rect x=\"141\" y=\"47\" width=\"2212\" height=\"1440\"/>\n",
       "  </clipPath>\n",
       "</defs>\n",
       "<polyline clip-path=\"url(#clip862)\" style=\"stroke:#000000; stroke-linecap:butt; stroke-linejoin:round; stroke-width:2; stroke-opacity:0.1; fill:none\" points=\"\n",
       "  204.426,1486.45 204.426,47.2441 \n",
       "  \"/>\n",
       "<polyline clip-path=\"url(#clip862)\" style=\"stroke:#000000; stroke-linecap:butt; stroke-linejoin:round; stroke-width:2; stroke-opacity:0.1; fill:none\" points=\"\n",
       "  638.958,1486.45 638.958,47.2441 \n",
       "  \"/>\n",
       "<polyline clip-path=\"url(#clip862)\" style=\"stroke:#000000; stroke-linecap:butt; stroke-linejoin:round; stroke-width:2; stroke-opacity:0.1; fill:none\" points=\"\n",
       "  1073.49,1486.45 1073.49,47.2441 \n",
       "  \"/>\n",
       "<polyline clip-path=\"url(#clip862)\" style=\"stroke:#000000; stroke-linecap:butt; stroke-linejoin:round; stroke-width:2; stroke-opacity:0.1; fill:none\" points=\"\n",
       "  1508.02,1486.45 1508.02,47.2441 \n",
       "  \"/>\n",
       "<polyline clip-path=\"url(#clip862)\" style=\"stroke:#000000; stroke-linecap:butt; stroke-linejoin:round; stroke-width:2; stroke-opacity:0.1; fill:none\" points=\"\n",
       "  1942.56,1486.45 1942.56,47.2441 \n",
       "  \"/>\n",
       "<polyline clip-path=\"url(#clip860)\" style=\"stroke:#000000; stroke-linecap:butt; stroke-linejoin:round; stroke-width:4; stroke-opacity:1; fill:none\" points=\"\n",
       "  141.853,1486.45 2352.76,1486.45 \n",
       "  \"/>\n",
       "<polyline clip-path=\"url(#clip860)\" style=\"stroke:#000000; stroke-linecap:butt; stroke-linejoin:round; stroke-width:4; stroke-opacity:1; fill:none\" points=\"\n",
       "  204.426,1486.45 204.426,1467.55 \n",
       "  \"/>\n",
       "<polyline clip-path=\"url(#clip860)\" style=\"stroke:#000000; stroke-linecap:butt; stroke-linejoin:round; stroke-width:4; stroke-opacity:1; fill:none\" points=\"\n",
       "  638.958,1486.45 638.958,1467.55 \n",
       "  \"/>\n",
       "<polyline clip-path=\"url(#clip860)\" style=\"stroke:#000000; stroke-linecap:butt; stroke-linejoin:round; stroke-width:4; stroke-opacity:1; fill:none\" points=\"\n",
       "  1073.49,1486.45 1073.49,1467.55 \n",
       "  \"/>\n",
       "<polyline clip-path=\"url(#clip860)\" style=\"stroke:#000000; stroke-linecap:butt; stroke-linejoin:round; stroke-width:4; stroke-opacity:1; fill:none\" points=\"\n",
       "  1508.02,1486.45 1508.02,1467.55 \n",
       "  \"/>\n",
       "<polyline clip-path=\"url(#clip860)\" style=\"stroke:#000000; stroke-linecap:butt; stroke-linejoin:round; stroke-width:4; stroke-opacity:1; fill:none\" points=\"\n",
       "  1942.56,1486.45 1942.56,1467.55 \n",
       "  \"/>\n",
       "<path clip-path=\"url(#clip860)\" d=\"M135.873 1530.29 L165.549 1530.29 L165.549 1534.23 L135.873 1534.23 L135.873 1530.29 Z\" fill=\"#000000\" fill-rule=\"evenodd\" fill-opacity=\"1\" /><path clip-path=\"url(#clip860)\" d=\"M176.451 1543.18 L184.09 1543.18 L184.09 1516.82 L175.78 1518.49 L175.78 1514.23 L184.044 1512.56 L188.72 1512.56 L188.72 1543.18 L196.359 1543.18 L196.359 1547.12 L176.451 1547.12 L176.451 1543.18 Z\" fill=\"#000000\" fill-rule=\"evenodd\" fill-opacity=\"1\" /><path clip-path=\"url(#clip860)\" d=\"M215.803 1515.64 Q212.192 1515.64 210.363 1519.2 Q208.558 1522.75 208.558 1529.87 Q208.558 1536.98 210.363 1540.55 Q212.192 1544.09 215.803 1544.09 Q219.437 1544.09 221.243 1540.55 Q223.071 1536.98 223.071 1529.87 Q223.071 1522.75 221.243 1519.2 Q219.437 1515.64 215.803 1515.64 M215.803 1511.93 Q221.613 1511.93 224.669 1516.54 Q227.747 1521.12 227.747 1529.87 Q227.747 1538.6 224.669 1543.21 Q221.613 1547.79 215.803 1547.79 Q209.993 1547.79 206.914 1543.21 Q203.859 1538.6 203.859 1529.87 Q203.859 1521.12 206.914 1516.54 Q209.993 1511.93 215.803 1511.93 Z\" fill=\"#000000\" fill-rule=\"evenodd\" fill-opacity=\"1\" /><path clip-path=\"url(#clip860)\" d=\"M235.965 1541.24 L240.849 1541.24 L240.849 1547.12 L235.965 1547.12 L235.965 1541.24 Z\" fill=\"#000000\" fill-rule=\"evenodd\" fill-opacity=\"1\" /><path clip-path=\"url(#clip860)\" d=\"M261.034 1515.64 Q257.423 1515.64 255.594 1519.2 Q253.789 1522.75 253.789 1529.87 Q253.789 1536.98 255.594 1540.55 Q257.423 1544.09 261.034 1544.09 Q264.668 1544.09 266.474 1540.55 Q268.303 1536.98 268.303 1529.87 Q268.303 1522.75 266.474 1519.2 Q264.668 1515.64 261.034 1515.64 M261.034 1511.93 Q266.844 1511.93 269.9 1516.54 Q272.979 1521.12 272.979 1529.87 Q272.979 1538.6 269.9 1543.21 Q266.844 1547.79 261.034 1547.79 Q255.224 1547.79 252.145 1543.21 Q249.09 1538.6 249.09 1529.87 Q249.09 1521.12 252.145 1516.54 Q255.224 1511.93 261.034 1511.93 Z\" fill=\"#000000\" fill-rule=\"evenodd\" fill-opacity=\"1\" /><path clip-path=\"url(#clip860)\" d=\"M585.984 1530.29 L615.66 1530.29 L615.66 1534.23 L585.984 1534.23 L585.984 1530.29 Z\" fill=\"#000000\" fill-rule=\"evenodd\" fill-opacity=\"1\" /><path clip-path=\"url(#clip860)\" d=\"M624.572 1512.56 L646.794 1512.56 L646.794 1514.55 L634.248 1547.12 L629.364 1547.12 L641.169 1516.5 L624.572 1516.5 L624.572 1512.56 Z\" fill=\"#000000\" fill-rule=\"evenodd\" fill-opacity=\"1\" /><path clip-path=\"url(#clip860)\" d=\"M655.914 1541.24 L660.799 1541.24 L660.799 1547.12 L655.914 1547.12 L655.914 1541.24 Z\" fill=\"#000000\" fill-rule=\"evenodd\" fill-opacity=\"1\" /><path clip-path=\"url(#clip860)\" d=\"M671.03 1512.56 L689.386 1512.56 L689.386 1516.5 L675.312 1516.5 L675.312 1524.97 Q676.331 1524.62 677.349 1524.46 Q678.368 1524.27 679.387 1524.27 Q685.174 1524.27 688.553 1527.44 Q691.933 1530.62 691.933 1536.03 Q691.933 1541.61 688.461 1544.71 Q684.988 1547.79 678.669 1547.79 Q676.493 1547.79 674.224 1547.42 Q671.979 1547.05 669.572 1546.31 L669.572 1541.61 Q671.655 1542.74 673.877 1543.3 Q676.099 1543.86 678.576 1543.86 Q682.581 1543.86 684.919 1541.75 Q687.257 1539.64 687.257 1536.03 Q687.257 1532.42 684.919 1530.31 Q682.581 1528.21 678.576 1528.21 Q676.701 1528.21 674.826 1528.62 Q672.975 1529.04 671.03 1529.92 L671.03 1512.56 Z\" fill=\"#000000\" fill-rule=\"evenodd\" fill-opacity=\"1\" /><path clip-path=\"url(#clip860)\" d=\"M1020.02 1530.29 L1049.7 1530.29 L1049.7 1534.23 L1020.02 1534.23 L1020.02 1530.29 Z\" fill=\"#000000\" fill-rule=\"evenodd\" fill-opacity=\"1\" /><path clip-path=\"url(#clip860)\" d=\"M1059.83 1512.56 L1078.19 1512.56 L1078.19 1516.5 L1064.12 1516.5 L1064.12 1524.97 Q1065.13 1524.62 1066.15 1524.46 Q1067.17 1524.27 1068.19 1524.27 Q1073.98 1524.27 1077.36 1527.44 Q1080.74 1530.62 1080.74 1536.03 Q1080.74 1541.61 1077.26 1544.71 Q1073.79 1547.79 1067.47 1547.79 Q1065.3 1547.79 1063.03 1547.42 Q1060.78 1547.05 1058.38 1546.31 L1058.38 1541.61 Q1060.46 1542.74 1062.68 1543.3 Q1064.9 1543.86 1067.38 1543.86 Q1071.38 1543.86 1073.72 1541.75 Q1076.06 1539.64 1076.06 1536.03 Q1076.06 1532.42 1073.72 1530.31 Q1071.38 1528.21 1067.38 1528.21 Q1065.51 1528.21 1063.63 1528.62 Q1061.78 1529.04 1059.83 1529.92 L1059.83 1512.56 Z\" fill=\"#000000\" fill-rule=\"evenodd\" fill-opacity=\"1\" /><path clip-path=\"url(#clip860)\" d=\"M1089.95 1541.24 L1094.83 1541.24 L1094.83 1547.12 L1089.95 1547.12 L1089.95 1541.24 Z\" fill=\"#000000\" fill-rule=\"evenodd\" fill-opacity=\"1\" /><path clip-path=\"url(#clip860)\" d=\"M1115.02 1515.64 Q1111.41 1515.64 1109.58 1519.2 Q1107.77 1522.75 1107.77 1529.87 Q1107.77 1536.98 1109.58 1540.55 Q1111.41 1544.09 1115.02 1544.09 Q1118.65 1544.09 1120.46 1540.55 Q1122.29 1536.98 1122.29 1529.87 Q1122.29 1522.75 1120.46 1519.2 Q1118.65 1515.64 1115.02 1515.64 M1115.02 1511.93 Q1120.83 1511.93 1123.88 1516.54 Q1126.96 1521.12 1126.96 1529.87 Q1126.96 1538.6 1123.88 1543.21 Q1120.83 1547.79 1115.02 1547.79 Q1109.21 1547.79 1106.13 1543.21 Q1103.07 1538.6 1103.07 1529.87 Q1103.07 1521.12 1106.13 1516.54 Q1109.21 1511.93 1115.02 1511.93 Z\" fill=\"#000000\" fill-rule=\"evenodd\" fill-opacity=\"1\" /><path clip-path=\"url(#clip860)\" d=\"M1455.05 1530.29 L1484.73 1530.29 L1484.73 1534.23 L1455.05 1534.23 L1455.05 1530.29 Z\" fill=\"#000000\" fill-rule=\"evenodd\" fill-opacity=\"1\" /><path clip-path=\"url(#clip860)\" d=\"M1498.85 1543.18 L1515.17 1543.18 L1515.17 1547.12 L1493.22 1547.12 L1493.22 1543.18 Q1495.88 1540.43 1500.47 1535.8 Q1505.07 1531.15 1506.25 1529.81 Q1508.5 1527.28 1509.38 1525.55 Q1510.28 1523.79 1510.28 1522.1 Q1510.28 1519.34 1508.34 1517.61 Q1506.42 1515.87 1503.31 1515.87 Q1501.11 1515.87 1498.66 1516.63 Q1496.23 1517.4 1493.45 1518.95 L1493.45 1514.23 Q1496.28 1513.09 1498.73 1512.51 Q1501.18 1511.93 1503.22 1511.93 Q1508.59 1511.93 1511.79 1514.62 Q1514.98 1517.31 1514.98 1521.8 Q1514.98 1523.93 1514.17 1525.85 Q1513.38 1527.74 1511.28 1530.34 Q1510.7 1531.01 1507.6 1534.23 Q1504.49 1537.42 1498.85 1543.18 Z\" fill=\"#000000\" fill-rule=\"evenodd\" fill-opacity=\"1\" /><path clip-path=\"url(#clip860)\" d=\"M1524.98 1541.24 L1529.86 1541.24 L1529.86 1547.12 L1524.98 1547.12 L1524.98 1541.24 Z\" fill=\"#000000\" fill-rule=\"evenodd\" fill-opacity=\"1\" /><path clip-path=\"url(#clip860)\" d=\"M1540.1 1512.56 L1558.45 1512.56 L1558.45 1516.5 L1544.38 1516.5 L1544.38 1524.97 Q1545.4 1524.62 1546.42 1524.46 Q1547.43 1524.27 1548.45 1524.27 Q1554.24 1524.27 1557.62 1527.44 Q1561 1530.62 1561 1536.03 Q1561 1541.61 1557.53 1544.71 Q1554.05 1547.79 1547.73 1547.79 Q1545.56 1547.79 1543.29 1547.42 Q1541.04 1547.05 1538.64 1546.31 L1538.64 1541.61 Q1540.72 1542.74 1542.94 1543.3 Q1545.17 1543.86 1547.64 1543.86 Q1551.65 1543.86 1553.98 1541.75 Q1556.32 1539.64 1556.32 1536.03 Q1556.32 1532.42 1553.98 1530.31 Q1551.65 1528.21 1547.64 1528.21 Q1545.77 1528.21 1543.89 1528.62 Q1542.04 1529.04 1540.1 1529.92 L1540.1 1512.56 Z\" fill=\"#000000\" fill-rule=\"evenodd\" fill-opacity=\"1\" /><path clip-path=\"url(#clip860)\" d=\"M1919.94 1515.64 Q1916.33 1515.64 1914.5 1519.2 Q1912.7 1522.75 1912.7 1529.87 Q1912.7 1536.98 1914.5 1540.55 Q1916.33 1544.09 1919.94 1544.09 Q1923.58 1544.09 1925.38 1540.55 Q1927.21 1536.98 1927.21 1529.87 Q1927.21 1522.75 1925.38 1519.2 Q1923.58 1515.64 1919.94 1515.64 M1919.94 1511.93 Q1925.75 1511.93 1928.81 1516.54 Q1931.89 1521.12 1931.89 1529.87 Q1931.89 1538.6 1928.81 1543.21 Q1925.75 1547.79 1919.94 1547.79 Q1914.13 1547.79 1911.05 1543.21 Q1908 1538.6 1908 1529.87 Q1908 1521.12 1911.05 1516.54 Q1914.13 1511.93 1919.94 1511.93 Z\" fill=\"#000000\" fill-rule=\"evenodd\" fill-opacity=\"1\" /><path clip-path=\"url(#clip860)\" d=\"M1940.1 1541.24 L1944.99 1541.24 L1944.99 1547.12 L1940.1 1547.12 L1940.1 1541.24 Z\" fill=\"#000000\" fill-rule=\"evenodd\" fill-opacity=\"1\" /><path clip-path=\"url(#clip860)\" d=\"M1965.17 1515.64 Q1961.56 1515.64 1959.73 1519.2 Q1957.93 1522.75 1957.93 1529.87 Q1957.93 1536.98 1959.73 1540.55 Q1961.56 1544.09 1965.17 1544.09 Q1968.81 1544.09 1970.61 1540.55 Q1972.44 1536.98 1972.44 1529.87 Q1972.44 1522.75 1970.61 1519.2 Q1968.81 1515.64 1965.17 1515.64 M1965.17 1511.93 Q1970.98 1511.93 1974.04 1516.54 Q1977.12 1521.12 1977.12 1529.87 Q1977.12 1538.6 1974.04 1543.21 Q1970.98 1547.79 1965.17 1547.79 Q1959.36 1547.79 1956.28 1543.21 Q1953.23 1538.6 1953.23 1529.87 Q1953.23 1521.12 1956.28 1516.54 Q1959.36 1511.93 1965.17 1511.93 Z\" fill=\"#000000\" fill-rule=\"evenodd\" fill-opacity=\"1\" /><polyline clip-path=\"url(#clip862)\" style=\"stroke:#000000; stroke-linecap:butt; stroke-linejoin:round; stroke-width:2; stroke-opacity:0.1; fill:none\" points=\"\n",
       "  141.853,1272.8 2352.76,1272.8 \n",
       "  \"/>\n",
       "<polyline clip-path=\"url(#clip862)\" style=\"stroke:#000000; stroke-linecap:butt; stroke-linejoin:round; stroke-width:2; stroke-opacity:0.1; fill:none\" points=\"\n",
       "  141.853,1025.76 2352.76,1025.76 \n",
       "  \"/>\n",
       "<polyline clip-path=\"url(#clip862)\" style=\"stroke:#000000; stroke-linecap:butt; stroke-linejoin:round; stroke-width:2; stroke-opacity:0.1; fill:none\" points=\"\n",
       "  141.853,778.721 2352.76,778.721 \n",
       "  \"/>\n",
       "<polyline clip-path=\"url(#clip862)\" style=\"stroke:#000000; stroke-linecap:butt; stroke-linejoin:round; stroke-width:2; stroke-opacity:0.1; fill:none\" points=\"\n",
       "  141.853,531.682 2352.76,531.682 \n",
       "  \"/>\n",
       "<polyline clip-path=\"url(#clip862)\" style=\"stroke:#000000; stroke-linecap:butt; stroke-linejoin:round; stroke-width:2; stroke-opacity:0.1; fill:none\" points=\"\n",
       "  141.853,284.643 2352.76,284.643 \n",
       "  \"/>\n",
       "<polyline clip-path=\"url(#clip860)\" style=\"stroke:#000000; stroke-linecap:butt; stroke-linejoin:round; stroke-width:4; stroke-opacity:1; fill:none\" points=\"\n",
       "  141.853,1486.45 141.853,47.2441 \n",
       "  \"/>\n",
       "<polyline clip-path=\"url(#clip860)\" style=\"stroke:#000000; stroke-linecap:butt; stroke-linejoin:round; stroke-width:4; stroke-opacity:1; fill:none\" points=\"\n",
       "  141.853,1272.8 160.751,1272.8 \n",
       "  \"/>\n",
       "<polyline clip-path=\"url(#clip860)\" style=\"stroke:#000000; stroke-linecap:butt; stroke-linejoin:round; stroke-width:4; stroke-opacity:1; fill:none\" points=\"\n",
       "  141.853,1025.76 160.751,1025.76 \n",
       "  \"/>\n",
       "<polyline clip-path=\"url(#clip860)\" style=\"stroke:#000000; stroke-linecap:butt; stroke-linejoin:round; stroke-width:4; stroke-opacity:1; fill:none\" points=\"\n",
       "  141.853,778.721 160.751,778.721 \n",
       "  \"/>\n",
       "<polyline clip-path=\"url(#clip860)\" style=\"stroke:#000000; stroke-linecap:butt; stroke-linejoin:round; stroke-width:4; stroke-opacity:1; fill:none\" points=\"\n",
       "  141.853,531.682 160.751,531.682 \n",
       "  \"/>\n",
       "<polyline clip-path=\"url(#clip860)\" style=\"stroke:#000000; stroke-linecap:butt; stroke-linejoin:round; stroke-width:4; stroke-opacity:1; fill:none\" points=\"\n",
       "  141.853,284.643 160.751,284.643 \n",
       "  \"/>\n",
       "<path clip-path=\"url(#clip860)\" d=\"M93.9086 1258.6 Q90.2975 1258.6 88.4688 1262.16 Q86.6632 1265.7 86.6632 1272.83 Q86.6632 1279.94 88.4688 1283.5 Q90.2975 1287.05 93.9086 1287.05 Q97.5428 1287.05 99.3483 1283.5 Q101.177 1279.94 101.177 1272.83 Q101.177 1265.7 99.3483 1262.16 Q97.5428 1258.6 93.9086 1258.6 M93.9086 1254.89 Q99.7187 1254.89 102.774 1259.5 Q105.853 1264.08 105.853 1272.83 Q105.853 1281.56 102.774 1286.17 Q99.7187 1290.75 93.9086 1290.75 Q88.0984 1290.75 85.0197 1286.17 Q81.9642 1281.56 81.9642 1272.83 Q81.9642 1264.08 85.0197 1259.5 Q88.0984 1254.89 93.9086 1254.89 Z\" fill=\"#000000\" fill-rule=\"evenodd\" fill-opacity=\"1\" /><path clip-path=\"url(#clip860)\" d=\"M54.5569 1039.1 L62.1958 1039.1 L62.1958 1012.74 L53.8856 1014.41 L53.8856 1010.15 L62.1495 1008.48 L66.8254 1008.48 L66.8254 1039.1 L74.4642 1039.1 L74.4642 1043.04 L54.5569 1043.04 L54.5569 1039.1 Z\" fill=\"#000000\" fill-rule=\"evenodd\" fill-opacity=\"1\" /><path clip-path=\"url(#clip860)\" d=\"M93.9086 1011.56 Q90.2975 1011.56 88.4688 1015.12 Q86.6632 1018.66 86.6632 1025.79 Q86.6632 1032.9 88.4688 1036.47 Q90.2975 1040.01 93.9086 1040.01 Q97.5428 1040.01 99.3483 1036.47 Q101.177 1032.9 101.177 1025.79 Q101.177 1018.66 99.3483 1015.12 Q97.5428 1011.56 93.9086 1011.56 M93.9086 1007.85 Q99.7187 1007.85 102.774 1012.46 Q105.853 1017.04 105.853 1025.79 Q105.853 1034.52 102.774 1039.13 Q99.7187 1043.71 93.9086 1043.71 Q88.0984 1043.71 85.0197 1039.13 Q81.9642 1034.52 81.9642 1025.79 Q81.9642 1017.04 85.0197 1012.46 Q88.0984 1007.85 93.9086 1007.85 Z\" fill=\"#000000\" fill-rule=\"evenodd\" fill-opacity=\"1\" /><path clip-path=\"url(#clip860)\" d=\"M57.7745 792.065 L74.0939 792.065 L74.0939 796.001 L52.1495 796.001 L52.1495 792.065 Q54.8115 789.311 59.3949 784.681 Q64.0013 780.028 65.1819 778.686 Q67.4272 776.163 68.3068 774.427 Q69.2096 772.667 69.2096 770.978 Q69.2096 768.223 67.2652 766.487 Q65.3439 764.751 62.2421 764.751 Q60.043 764.751 57.5893 765.515 Q55.1588 766.278 52.381 767.829 L52.381 763.107 Q55.2051 761.973 57.6588 761.394 Q60.1124 760.816 62.1495 760.816 Q67.5198 760.816 70.7142 763.501 Q73.9087 766.186 73.9087 770.677 Q73.9087 772.806 73.0985 774.727 Q72.3115 776.626 70.205 779.218 Q69.6263 779.889 66.5245 783.107 Q63.4226 786.302 57.7745 792.065 Z\" fill=\"#000000\" fill-rule=\"evenodd\" fill-opacity=\"1\" /><path clip-path=\"url(#clip860)\" d=\"M93.9086 764.519 Q90.2975 764.519 88.4688 768.084 Q86.6632 771.626 86.6632 778.755 Q86.6632 785.862 88.4688 789.426 Q90.2975 792.968 93.9086 792.968 Q97.5428 792.968 99.3483 789.426 Q101.177 785.862 101.177 778.755 Q101.177 771.626 99.3483 768.084 Q97.5428 764.519 93.9086 764.519 M93.9086 760.816 Q99.7187 760.816 102.774 765.422 Q105.853 770.005 105.853 778.755 Q105.853 787.482 102.774 792.089 Q99.7187 796.672 93.9086 796.672 Q88.0984 796.672 85.0197 792.089 Q81.9642 787.482 81.9642 778.755 Q81.9642 770.005 85.0197 765.422 Q88.0984 760.816 93.9086 760.816 Z\" fill=\"#000000\" fill-rule=\"evenodd\" fill-opacity=\"1\" /><path clip-path=\"url(#clip860)\" d=\"M67.9133 530.328 Q71.2698 531.045 73.1448 533.314 Q75.0429 535.582 75.0429 538.915 Q75.0429 544.031 71.5244 546.832 Q68.0059 549.633 61.5245 549.633 Q59.3486 549.633 57.0338 549.193 Q54.7421 548.777 52.2884 547.92 L52.2884 543.406 Q54.2328 544.54 56.5477 545.119 Q58.8625 545.698 61.3856 545.698 Q65.7837 545.698 68.0754 543.962 Q70.3902 542.226 70.3902 538.915 Q70.3902 535.86 68.2374 534.147 Q66.1078 532.411 62.2884 532.411 L58.2606 532.411 L58.2606 528.568 L62.4735 528.568 Q65.9226 528.568 67.7513 527.203 Q69.58 525.814 69.58 523.221 Q69.58 520.559 67.6819 519.147 Q65.8069 517.712 62.2884 517.712 Q60.3671 517.712 58.168 518.129 Q55.969 518.545 53.3301 519.425 L53.3301 515.258 Q55.9921 514.517 58.3069 514.147 Q60.6449 513.777 62.705 513.777 Q68.0291 513.777 71.1309 516.207 Q74.2327 518.615 74.2327 522.735 Q74.2327 525.605 72.5892 527.596 Q70.9457 529.564 67.9133 530.328 Z\" fill=\"#000000\" fill-rule=\"evenodd\" fill-opacity=\"1\" /><path clip-path=\"url(#clip860)\" d=\"M93.9086 517.48 Q90.2975 517.48 88.4688 521.045 Q86.6632 524.587 86.6632 531.716 Q86.6632 538.823 88.4688 542.388 Q90.2975 545.929 93.9086 545.929 Q97.5428 545.929 99.3483 542.388 Q101.177 538.823 101.177 531.716 Q101.177 524.587 99.3483 521.045 Q97.5428 517.48 93.9086 517.48 M93.9086 513.777 Q99.7187 513.777 102.774 518.383 Q105.853 522.966 105.853 531.716 Q105.853 540.443 102.774 545.05 Q99.7187 549.633 93.9086 549.633 Q88.0984 549.633 85.0197 545.05 Q81.9642 540.443 81.9642 531.716 Q81.9642 522.966 85.0197 518.383 Q88.0984 513.777 93.9086 513.777 Z\" fill=\"#000000\" fill-rule=\"evenodd\" fill-opacity=\"1\" /><path clip-path=\"url(#clip860)\" d=\"M66.5939 271.437 L54.7884 289.886 L66.5939 289.886 L66.5939 271.437 M65.367 267.363 L71.2466 267.363 L71.2466 289.886 L76.1772 289.886 L76.1772 293.775 L71.2466 293.775 L71.2466 301.923 L66.5939 301.923 L66.5939 293.775 L50.9921 293.775 L50.9921 289.261 L65.367 267.363 Z\" fill=\"#000000\" fill-rule=\"evenodd\" fill-opacity=\"1\" /><path clip-path=\"url(#clip860)\" d=\"M93.9086 270.442 Q90.2975 270.442 88.4688 274.006 Q86.6632 277.548 86.6632 284.678 Q86.6632 291.784 88.4688 295.349 Q90.2975 298.891 93.9086 298.891 Q97.5428 298.891 99.3483 295.349 Q101.177 291.784 101.177 284.678 Q101.177 277.548 99.3483 274.006 Q97.5428 270.442 93.9086 270.442 M93.9086 266.738 Q99.7187 266.738 102.774 271.344 Q105.853 275.928 105.853 284.678 Q105.853 293.404 102.774 298.011 Q99.7187 302.594 93.9086 302.594 Q88.0984 302.594 85.0197 298.011 Q81.9642 293.404 81.9642 284.678 Q81.9642 275.928 85.0197 271.344 Q88.0984 266.738 93.9086 266.738 Z\" fill=\"#000000\" fill-rule=\"evenodd\" fill-opacity=\"1\" /><polyline clip-path=\"url(#clip862)\" style=\"stroke:#009af9; stroke-linecap:butt; stroke-linejoin:round; stroke-width:4; stroke-opacity:1; fill:none\" points=\"\n",
       "  204.426,1400.67 221.807,1392.12 239.188,1383.12 256.57,1373.76 273.951,1364.14 291.332,1354.34 308.714,1344.46 326.095,1334.61 343.476,1324.88 360.857,1315.38 \n",
       "  378.239,1306.19 395.62,1297.4 413.001,1289.11 430.383,1281.4 447.764,1274.34 465.145,1268.01 482.527,1262.46 499.908,1257.76 517.289,1253.95 534.671,1251.07 \n",
       "  552.052,1249.15 569.433,1248.2 586.815,1248.24 604.196,1249.26 621.577,1251.26 638.958,1254.22 656.34,1258.1 673.721,1262.87 691.102,1268.48 708.484,1274.88 \n",
       "  725.865,1281.99 743.246,1289.75 760.628,1298.08 778.009,1306.9 795.39,1316.12 812.772,1325.65 830.153,1335.39 847.534,1345.25 864.916,1355.12 882.297,1364.91 \n",
       "  899.678,1374.52 917.059,1383.85 934.441,1392.82 951.822,1401.33 969.203,1409.29 986.585,1416.63 1003.97,1423.27 1021.35,1429.15 1038.73,1434.21 1056.11,1438.39 \n",
       "  1073.49,1441.67 1090.87,1443.99 1108.25,1445.34 1125.64,1445.72 1143.02,1445.1 1160.4,1443.5 1177.78,1440.94 1195.16,1437.44 1212.54,1433.03 1229.92,1427.76 \n",
       "  1247.3,1421.69 1264.69,1414.86 1282.07,1407.36 1299.45,1399.25 1316.83,1390.62 1334.21,1381.55 1351.59,1372.13 1368.97,1362.46 1386.35,1352.64 1403.74,1342.75 \n",
       "  1421.12,1332.9 1438.5,1323.19 1455.88,1313.72 1473.26,1304.57 1490.64,1295.83 1508.02,1287.61 1525.41,1279.96 1542.79,1272.97 1560.17,1266.71 1577.55,1261.24 \n",
       "  1594.93,1256.6 1612.31,1252.85 1629.69,1250 1647.07,1248.09 1664.46,1247.13 1681.84,1247.11 1699.22,1248.03 1716.6,1249.86 1733.98,1252.57 1751.36,1256.11 \n",
       "  1768.74,1260.42 1786.13,1265.42 1803.51,1271.04 1820.89,1277.16 1838.27,1283.67 1855.65,1290.45 1873.03,1297.33 1890.41,1304.15 1907.79,1310.72 1925.18,1316.82 \n",
       "  1942.56,1322.21 1959.94,1326.6 1977.32,1329.69 1994.7,1331.1 2012.08,1330.41 2029.46,1327.13 2046.84,1320.69 2064.23,1310.39 2081.61,1295.44 2098.99,1274.86 \n",
       "  2116.37,1247.52 2133.75,1212.02 2151.13,1166.69 2168.51,1109.52 2185.9,1038.04 2203.28,949.287 2220.66,839.634 2238.04,704.672 2255.42,539.023 2272.8,336.126 \n",
       "  2290.18,87.9763 \n",
       "  \"/>\n",
       "<path clip-path=\"url(#clip860)\" d=\"\n",
       "M1980.97 198.898 L2279.06 198.898 L2279.06 95.2176 L1980.97 95.2176  Z\n",
       "  \" fill=\"#ffffff\" fill-rule=\"evenodd\" fill-opacity=\"1\"/>\n",
       "<polyline clip-path=\"url(#clip860)\" style=\"stroke:#000000; stroke-linecap:butt; stroke-linejoin:round; stroke-width:4; stroke-opacity:1; fill:none\" points=\"\n",
       "  1980.97,198.898 2279.06,198.898 2279.06,95.2176 1980.97,95.2176 1980.97,198.898 \n",
       "  \"/>\n",
       "<polyline clip-path=\"url(#clip860)\" style=\"stroke:#009af9; stroke-linecap:butt; stroke-linejoin:round; stroke-width:4; stroke-opacity:1; fill:none\" points=\"\n",
       "  2005.54,147.058 2152.93,147.058 \n",
       "  \"/>\n",
       "<path clip-path=\"url(#clip860)\" d=\"M2191.34 166.745 Q2189.53 171.375 2187.82 172.787 Q2186.11 174.199 2183.24 174.199 L2179.84 174.199 L2179.84 170.634 L2182.34 170.634 Q2184.09 170.634 2185.07 169.8 Q2186.04 168.967 2187.22 165.865 L2187.98 163.921 L2177.5 138.412 L2182.01 138.412 L2190.11 158.689 L2198.22 138.412 L2202.73 138.412 L2191.34 166.745 Z\" fill=\"#000000\" fill-rule=\"evenodd\" fill-opacity=\"1\" /><path clip-path=\"url(#clip860)\" d=\"M2210.02 160.402 L2217.66 160.402 L2217.66 134.037 L2209.35 135.703 L2209.35 131.444 L2217.61 129.778 L2222.29 129.778 L2222.29 160.402 L2229.93 160.402 L2229.93 164.338 L2210.02 164.338 L2210.02 160.402 Z\" fill=\"#000000\" fill-rule=\"evenodd\" fill-opacity=\"1\" /></svg>\n"
      ]
     },
     "execution_count": 64,
     "metadata": {},
     "output_type": "execute_result"
    }
   ],
   "source": [
    "plot(f, -10:0.1:2)"
   ]
  },
  {
   "cell_type": "code",
   "execution_count": 65,
   "id": "fa4f1edb",
   "metadata": {},
   "outputs": [
    {
     "name": "stdout",
     "output_type": "stream",
     "text": [
      "x1: -4, x2: -2\n",
      "secant function: y = 3.3411899323976355*x + 7.337885210986732\n",
      "x intercept = -2.196189189915663\n",
      "0: x1=-4, x2=-2, x_intercept=-2.196189189915663\n",
      "\n",
      "x1: -2, x2: -2.196189189915663\n",
      "secant function: y = 2.0398743712120946*x + 4.73525408861565\n",
      "x intercept = -2.321345939457026\n",
      "1: x1=-2, x2=-2.196189189915663, x_intercept=-2.321345939457026\n",
      "\n",
      "x1: -2.196189189915663, x2: -2.321345939457026\n",
      "secant function: y = 2.5601162331647975*x + 5.877803641977772\n",
      "x intercept = -2.2959128049868553\n",
      "2: x1=-2.196189189915663, x2=-2.321345939457026, x_intercept=-2.2959128049868553\n",
      "\n",
      "x1: -2.321345939457026, x2: -2.2959128049868553\n",
      "secant function: y = 2.710433702402483*x + 6.226742488822131\n",
      "x intercept = -2.2973232967487274\n",
      "3: x1=-2.321345939457026, x2=-2.2959128049868553, x_intercept=-2.2973232967487274\n",
      "\n"
     ]
    },
    {
     "data": {
      "text/plain": [
       "-2.2973232967487274"
      ]
     },
     "execution_count": 65,
     "metadata": {},
     "output_type": "execute_result"
    }
   ],
   "source": [
    "secant(f, -4, -2)"
   ]
  },
  {
   "cell_type": "code",
   "execution_count": 66,
   "id": "00344141",
   "metadata": {},
   "outputs": [
    {
     "name": "stdout",
     "output_type": "stream",
     "text": [
      "x1: 1, x2: 1.2\n",
      "secant function: y = 16.35923938536816*x + -15.336067225669096\n",
      "x intercept = 0.937456006627411\n",
      "0: x1=1, x2=1.2, x_intercept=0.937456006627411\n",
      "\n",
      "x1: 1, x2: 0.937456006627411\n",
      "secant function: y = 11.626169172875176*x + -10.602997013176113\n",
      "x intercept = 0.9119940416757215\n",
      "1: x1=1, x2=0.937456006627411, x_intercept=0.9119940416757215\n",
      "\n",
      "x1: 0.937456006627411, x2: 0.9119940416757215\n",
      "secant function: y = 10.30586782029187*x + -9.365272579638596\n",
      "x intercept = 0.9087320682687899\n",
      "2: x1=0.937456006627411, x2=0.9119940416757215, x_intercept=0.9087320682687899\n",
      "\n",
      "x1: 0.9119940416757215, x2: 0.9087320682687899\n",
      "secant function: y = 9.898869741339377*x + -8.994092756660459\n",
      "x intercept = 0.9085979502386606\n",
      "3: x1=0.9119940416757215, x2=0.9087320682687899, x_intercept=0.9085979502386606\n",
      "\n"
     ]
    },
    {
     "data": {
      "text/plain": [
       "0.9085979502386606"
      ]
     },
     "execution_count": 66,
     "metadata": {},
     "output_type": "execute_result"
    }
   ],
   "source": [
    "secant(f, 1, 1.2)"
   ]
  },
  {
   "cell_type": "markdown",
   "id": "3177952e",
   "metadata": {},
   "source": [
    "### 4"
   ]
  },
  {
   "cell_type": "code",
   "execution_count": 84,
   "id": "0e4b8c6e",
   "metadata": {},
   "outputs": [
    {
     "data": {
      "image/svg+xml": [
       "<?xml version=\"1.0\" encoding=\"utf-8\"?>\n",
       "<svg xmlns=\"http://www.w3.org/2000/svg\" xmlns:xlink=\"http://www.w3.org/1999/xlink\" width=\"600\" height=\"400\" viewBox=\"0 0 2400 1600\">\n",
       "<defs>\n",
       "  <clipPath id=\"clip340\">\n",
       "    <rect x=\"0\" y=\"0\" width=\"2400\" height=\"1600\"/>\n",
       "  </clipPath>\n",
       "</defs>\n",
       "<path clip-path=\"url(#clip340)\" d=\"\n",
       "M0 1600 L2400 1600 L2400 0 L0 0  Z\n",
       "  \" fill=\"#ffffff\" fill-rule=\"evenodd\" fill-opacity=\"1\"/>\n",
       "<defs>\n",
       "  <clipPath id=\"clip341\">\n",
       "    <rect x=\"480\" y=\"0\" width=\"1681\" height=\"1600\"/>\n",
       "  </clipPath>\n",
       "</defs>\n",
       "<path clip-path=\"url(#clip340)\" d=\"\n",
       "M178.867 1486.45 L2352.76 1486.45 L2352.76 47.2441 L178.867 47.2441  Z\n",
       "  \" fill=\"#ffffff\" fill-rule=\"evenodd\" fill-opacity=\"1\"/>\n",
       "<defs>\n",
       "  <clipPath id=\"clip342\">\n",
       "    <rect x=\"178\" y=\"47\" width=\"2175\" height=\"1440\"/>\n",
       "  </clipPath>\n",
       "</defs>\n",
       "<polyline clip-path=\"url(#clip342)\" style=\"stroke:#000000; stroke-linecap:butt; stroke-linejoin:round; stroke-width:2; stroke-opacity:0.1; fill:none\" points=\"\n",
       "  240.392,1486.45 240.392,47.2441 \n",
       "  \"/>\n",
       "<polyline clip-path=\"url(#clip342)\" style=\"stroke:#000000; stroke-linecap:butt; stroke-linejoin:round; stroke-width:2; stroke-opacity:0.1; fill:none\" points=\"\n",
       "  924.005,1486.45 924.005,47.2441 \n",
       "  \"/>\n",
       "<polyline clip-path=\"url(#clip342)\" style=\"stroke:#000000; stroke-linecap:butt; stroke-linejoin:round; stroke-width:2; stroke-opacity:0.1; fill:none\" points=\"\n",
       "  1607.62,1486.45 1607.62,47.2441 \n",
       "  \"/>\n",
       "<polyline clip-path=\"url(#clip342)\" style=\"stroke:#000000; stroke-linecap:butt; stroke-linejoin:round; stroke-width:2; stroke-opacity:0.1; fill:none\" points=\"\n",
       "  2291.23,1486.45 2291.23,47.2441 \n",
       "  \"/>\n",
       "<polyline clip-path=\"url(#clip340)\" style=\"stroke:#000000; stroke-linecap:butt; stroke-linejoin:round; stroke-width:4; stroke-opacity:1; fill:none\" points=\"\n",
       "  178.867,1486.45 2352.76,1486.45 \n",
       "  \"/>\n",
       "<polyline clip-path=\"url(#clip340)\" style=\"stroke:#000000; stroke-linecap:butt; stroke-linejoin:round; stroke-width:4; stroke-opacity:1; fill:none\" points=\"\n",
       "  240.392,1486.45 240.392,1467.55 \n",
       "  \"/>\n",
       "<polyline clip-path=\"url(#clip340)\" style=\"stroke:#000000; stroke-linecap:butt; stroke-linejoin:round; stroke-width:4; stroke-opacity:1; fill:none\" points=\"\n",
       "  924.005,1486.45 924.005,1467.55 \n",
       "  \"/>\n",
       "<polyline clip-path=\"url(#clip340)\" style=\"stroke:#000000; stroke-linecap:butt; stroke-linejoin:round; stroke-width:4; stroke-opacity:1; fill:none\" points=\"\n",
       "  1607.62,1486.45 1607.62,1467.55 \n",
       "  \"/>\n",
       "<polyline clip-path=\"url(#clip340)\" style=\"stroke:#000000; stroke-linecap:butt; stroke-linejoin:round; stroke-width:4; stroke-opacity:1; fill:none\" points=\"\n",
       "  2291.23,1486.45 2291.23,1467.55 \n",
       "  \"/>\n",
       "<path clip-path=\"url(#clip340)\" d=\"M210.149 1530.29 L239.825 1530.29 L239.825 1534.23 L210.149 1534.23 L210.149 1530.29 Z\" fill=\"#000000\" fill-rule=\"evenodd\" fill-opacity=\"1\" /><path clip-path=\"url(#clip340)\" d=\"M250.727 1543.18 L258.366 1543.18 L258.366 1516.82 L250.056 1518.49 L250.056 1514.23 L258.32 1512.56 L262.996 1512.56 L262.996 1543.18 L270.635 1543.18 L270.635 1547.12 L250.727 1547.12 L250.727 1543.18 Z\" fill=\"#000000\" fill-rule=\"evenodd\" fill-opacity=\"1\" /><path clip-path=\"url(#clip340)\" d=\"M924.005 1515.64 Q920.394 1515.64 918.565 1519.2 Q916.759 1522.75 916.759 1529.87 Q916.759 1536.98 918.565 1540.55 Q920.394 1544.09 924.005 1544.09 Q927.639 1544.09 929.445 1540.55 Q931.273 1536.98 931.273 1529.87 Q931.273 1522.75 929.445 1519.2 Q927.639 1515.64 924.005 1515.64 M924.005 1511.93 Q929.815 1511.93 932.87 1516.54 Q935.949 1521.12 935.949 1529.87 Q935.949 1538.6 932.87 1543.21 Q929.815 1547.79 924.005 1547.79 Q918.195 1547.79 915.116 1543.21 Q912.06 1538.6 912.06 1529.87 Q912.06 1521.12 915.116 1516.54 Q918.195 1511.93 924.005 1511.93 Z\" fill=\"#000000\" fill-rule=\"evenodd\" fill-opacity=\"1\" /><path clip-path=\"url(#clip340)\" d=\"M1598 1543.18 L1605.64 1543.18 L1605.64 1516.82 L1597.33 1518.49 L1597.33 1514.23 L1605.59 1512.56 L1610.27 1512.56 L1610.27 1543.18 L1617.91 1543.18 L1617.91 1547.12 L1598 1547.12 L1598 1543.18 Z\" fill=\"#000000\" fill-rule=\"evenodd\" fill-opacity=\"1\" /><path clip-path=\"url(#clip340)\" d=\"M2285.88 1543.18 L2302.2 1543.18 L2302.2 1547.12 L2280.26 1547.12 L2280.26 1543.18 Q2282.92 1540.43 2287.5 1535.8 Q2292.11 1531.15 2293.29 1529.81 Q2295.54 1527.28 2296.42 1525.55 Q2297.32 1523.79 2297.32 1522.1 Q2297.32 1519.34 2295.37 1517.61 Q2293.45 1515.87 2290.35 1515.87 Q2288.15 1515.87 2285.7 1516.63 Q2283.27 1517.4 2280.49 1518.95 L2280.49 1514.23 Q2283.31 1513.09 2285.77 1512.51 Q2288.22 1511.93 2290.26 1511.93 Q2295.63 1511.93 2298.82 1514.62 Q2302.02 1517.31 2302.02 1521.8 Q2302.02 1523.93 2301.21 1525.85 Q2300.42 1527.74 2298.31 1530.34 Q2297.74 1531.01 2294.63 1534.23 Q2291.53 1537.42 2285.88 1543.18 Z\" fill=\"#000000\" fill-rule=\"evenodd\" fill-opacity=\"1\" /><polyline clip-path=\"url(#clip342)\" style=\"stroke:#000000; stroke-linecap:butt; stroke-linejoin:round; stroke-width:2; stroke-opacity:0.1; fill:none\" points=\"\n",
       "  178.867,1374.33 2352.76,1374.33 \n",
       "  \"/>\n",
       "<polyline clip-path=\"url(#clip342)\" style=\"stroke:#000000; stroke-linecap:butt; stroke-linejoin:round; stroke-width:2; stroke-opacity:0.1; fill:none\" points=\"\n",
       "  178.867,1078.94 2352.76,1078.94 \n",
       "  \"/>\n",
       "<polyline clip-path=\"url(#clip342)\" style=\"stroke:#000000; stroke-linecap:butt; stroke-linejoin:round; stroke-width:2; stroke-opacity:0.1; fill:none\" points=\"\n",
       "  178.867,783.548 2352.76,783.548 \n",
       "  \"/>\n",
       "<polyline clip-path=\"url(#clip342)\" style=\"stroke:#000000; stroke-linecap:butt; stroke-linejoin:round; stroke-width:2; stroke-opacity:0.1; fill:none\" points=\"\n",
       "  178.867,488.159 2352.76,488.159 \n",
       "  \"/>\n",
       "<polyline clip-path=\"url(#clip342)\" style=\"stroke:#000000; stroke-linecap:butt; stroke-linejoin:round; stroke-width:2; stroke-opacity:0.1; fill:none\" points=\"\n",
       "  178.867,192.769 2352.76,192.769 \n",
       "  \"/>\n",
       "<polyline clip-path=\"url(#clip340)\" style=\"stroke:#000000; stroke-linecap:butt; stroke-linejoin:round; stroke-width:4; stroke-opacity:1; fill:none\" points=\"\n",
       "  178.867,1486.45 178.867,47.2441 \n",
       "  \"/>\n",
       "<polyline clip-path=\"url(#clip340)\" style=\"stroke:#000000; stroke-linecap:butt; stroke-linejoin:round; stroke-width:4; stroke-opacity:1; fill:none\" points=\"\n",
       "  178.867,1374.33 197.764,1374.33 \n",
       "  \"/>\n",
       "<polyline clip-path=\"url(#clip340)\" style=\"stroke:#000000; stroke-linecap:butt; stroke-linejoin:round; stroke-width:4; stroke-opacity:1; fill:none\" points=\"\n",
       "  178.867,1078.94 197.764,1078.94 \n",
       "  \"/>\n",
       "<polyline clip-path=\"url(#clip340)\" style=\"stroke:#000000; stroke-linecap:butt; stroke-linejoin:round; stroke-width:4; stroke-opacity:1; fill:none\" points=\"\n",
       "  178.867,783.548 197.764,783.548 \n",
       "  \"/>\n",
       "<polyline clip-path=\"url(#clip340)\" style=\"stroke:#000000; stroke-linecap:butt; stroke-linejoin:round; stroke-width:4; stroke-opacity:1; fill:none\" points=\"\n",
       "  178.867,488.159 197.764,488.159 \n",
       "  \"/>\n",
       "<polyline clip-path=\"url(#clip340)\" style=\"stroke:#000000; stroke-linecap:butt; stroke-linejoin:round; stroke-width:4; stroke-opacity:1; fill:none\" points=\"\n",
       "  178.867,192.769 197.764,192.769 \n",
       "  \"/>\n",
       "<path clip-path=\"url(#clip340)\" d=\"M50.9921 1374.78 L80.6679 1374.78 L80.6679 1378.71 L50.9921 1378.71 L50.9921 1374.78 Z\" fill=\"#000000\" fill-rule=\"evenodd\" fill-opacity=\"1\" /><path clip-path=\"url(#clip340)\" d=\"M103.608 1361.12 L91.8021 1379.57 L103.608 1379.57 L103.608 1361.12 M102.381 1357.05 L108.26 1357.05 L108.26 1379.57 L113.191 1379.57 L113.191 1383.46 L108.26 1383.46 L108.26 1391.61 L103.608 1391.61 L103.608 1383.46 L88.0058 1383.46 L88.0058 1378.95 L102.381 1357.05 Z\" fill=\"#000000\" fill-rule=\"evenodd\" fill-opacity=\"1\" /><path clip-path=\"url(#clip340)\" d=\"M130.922 1360.13 Q127.311 1360.13 125.482 1363.69 Q123.677 1367.23 123.677 1374.36 Q123.677 1381.47 125.482 1385.03 Q127.311 1388.58 130.922 1388.58 Q134.556 1388.58 136.362 1385.03 Q138.191 1381.47 138.191 1374.36 Q138.191 1367.23 136.362 1363.69 Q134.556 1360.13 130.922 1360.13 M130.922 1356.42 Q136.732 1356.42 139.788 1361.03 Q142.867 1365.61 142.867 1374.36 Q142.867 1383.09 139.788 1387.7 Q136.732 1392.28 130.922 1392.28 Q125.112 1392.28 122.033 1387.7 Q118.978 1383.09 118.978 1374.36 Q118.978 1365.61 122.033 1361.03 Q125.112 1356.42 130.922 1356.42 Z\" fill=\"#000000\" fill-rule=\"evenodd\" fill-opacity=\"1\" /><path clip-path=\"url(#clip340)\" d=\"M50.9921 1079.39 L80.6679 1079.39 L80.6679 1083.32 L50.9921 1083.32 L50.9921 1079.39 Z\" fill=\"#000000\" fill-rule=\"evenodd\" fill-opacity=\"1\" /><path clip-path=\"url(#clip340)\" d=\"M104.927 1077.58 Q108.283 1078.3 110.158 1080.57 Q112.057 1082.84 112.057 1086.17 Q112.057 1091.29 108.538 1094.09 Q105.02 1096.89 98.5382 1096.89 Q96.3623 1096.89 94.0475 1096.45 Q91.7558 1096.03 89.3021 1095.18 L89.3021 1090.66 Q91.2465 1091.8 93.5613 1092.38 Q95.8761 1092.95 98.3993 1092.95 Q102.797 1092.95 105.089 1091.22 Q107.404 1089.48 107.404 1086.17 Q107.404 1083.12 105.251 1081.4 Q103.121 1079.67 99.3021 1079.67 L95.2743 1079.67 L95.2743 1075.82 L99.4872 1075.82 Q102.936 1075.82 104.765 1074.46 Q106.594 1073.07 106.594 1070.48 Q106.594 1067.82 104.696 1066.4 Q102.821 1064.97 99.3021 1064.97 Q97.3808 1064.97 95.1817 1065.38 Q92.9826 1065.8 90.3438 1066.68 L90.3438 1062.51 Q93.0058 1061.77 95.3206 1061.4 Q97.6585 1061.03 99.7187 1061.03 Q105.043 1061.03 108.145 1063.46 Q111.246 1065.87 111.246 1069.99 Q111.246 1072.86 109.603 1074.85 Q107.959 1076.82 104.927 1077.58 Z\" fill=\"#000000\" fill-rule=\"evenodd\" fill-opacity=\"1\" /><path clip-path=\"url(#clip340)\" d=\"M130.922 1064.74 Q127.311 1064.74 125.482 1068.3 Q123.677 1071.84 123.677 1078.97 Q123.677 1086.08 125.482 1089.64 Q127.311 1093.19 130.922 1093.19 Q134.556 1093.19 136.362 1089.64 Q138.191 1086.08 138.191 1078.97 Q138.191 1071.84 136.362 1068.3 Q134.556 1064.74 130.922 1064.74 M130.922 1061.03 Q136.732 1061.03 139.788 1065.64 Q142.867 1070.22 142.867 1078.97 Q142.867 1087.7 139.788 1092.31 Q136.732 1096.89 130.922 1096.89 Q125.112 1096.89 122.033 1092.31 Q118.978 1087.7 118.978 1078.97 Q118.978 1070.22 122.033 1065.64 Q125.112 1061.03 130.922 1061.03 Z\" fill=\"#000000\" fill-rule=\"evenodd\" fill-opacity=\"1\" /><path clip-path=\"url(#clip340)\" d=\"M50.9921 784 L80.6679 784 L80.6679 787.935 L50.9921 787.935 L50.9921 784 Z\" fill=\"#000000\" fill-rule=\"evenodd\" fill-opacity=\"1\" /><path clip-path=\"url(#clip340)\" d=\"M94.7882 796.893 L111.108 796.893 L111.108 800.828 L89.1632 800.828 L89.1632 796.893 Q91.8252 794.138 96.4085 789.509 Q101.015 784.856 102.196 783.514 Q104.441 780.99 105.321 779.254 Q106.223 777.495 106.223 775.805 Q106.223 773.051 104.279 771.314 Q102.358 769.578 99.2558 769.578 Q97.0567 769.578 94.603 770.342 Q92.1725 771.106 89.3947 772.657 L89.3947 767.935 Q92.2188 766.801 94.6724 766.222 Q97.1261 765.643 99.1632 765.643 Q104.534 765.643 107.728 768.328 Q110.922 771.014 110.922 775.504 Q110.922 777.634 110.112 779.555 Q109.325 781.453 107.219 784.046 Q106.64 784.717 103.538 787.935 Q100.436 791.129 94.7882 796.893 Z\" fill=\"#000000\" fill-rule=\"evenodd\" fill-opacity=\"1\" /><path clip-path=\"url(#clip340)\" d=\"M130.922 769.347 Q127.311 769.347 125.482 772.912 Q123.677 776.453 123.677 783.583 Q123.677 790.689 125.482 794.254 Q127.311 797.796 130.922 797.796 Q134.556 797.796 136.362 794.254 Q138.191 790.689 138.191 783.583 Q138.191 776.453 136.362 772.912 Q134.556 769.347 130.922 769.347 M130.922 765.643 Q136.732 765.643 139.788 770.25 Q142.867 774.833 142.867 783.583 Q142.867 792.31 139.788 796.916 Q136.732 801.5 130.922 801.5 Q125.112 801.5 122.033 796.916 Q118.978 792.31 118.978 783.583 Q118.978 774.833 122.033 770.25 Q125.112 765.643 130.922 765.643 Z\" fill=\"#000000\" fill-rule=\"evenodd\" fill-opacity=\"1\" /><path clip-path=\"url(#clip340)\" d=\"M50.9921 488.61 L80.6679 488.61 L80.6679 492.545 L50.9921 492.545 L50.9921 488.61 Z\" fill=\"#000000\" fill-rule=\"evenodd\" fill-opacity=\"1\" /><path clip-path=\"url(#clip340)\" d=\"M91.5706 501.503 L99.2095 501.503 L99.2095 475.138 L90.8993 476.804 L90.8993 472.545 L99.1632 470.879 L103.839 470.879 L103.839 501.503 L111.478 501.503 L111.478 505.439 L91.5706 505.439 L91.5706 501.503 Z\" fill=\"#000000\" fill-rule=\"evenodd\" fill-opacity=\"1\" /><path clip-path=\"url(#clip340)\" d=\"M130.922 473.957 Q127.311 473.957 125.482 477.522 Q123.677 481.064 123.677 488.193 Q123.677 495.3 125.482 498.865 Q127.311 502.406 130.922 502.406 Q134.556 502.406 136.362 498.865 Q138.191 495.3 138.191 488.193 Q138.191 481.064 136.362 477.522 Q134.556 473.957 130.922 473.957 M130.922 470.254 Q136.732 470.254 139.788 474.86 Q142.867 479.443 142.867 488.193 Q142.867 496.92 139.788 501.527 Q136.732 506.11 130.922 506.11 Q125.112 506.11 122.033 501.527 Q118.978 496.92 118.978 488.193 Q118.978 479.443 122.033 474.86 Q125.112 470.254 130.922 470.254 Z\" fill=\"#000000\" fill-rule=\"evenodd\" fill-opacity=\"1\" /><path clip-path=\"url(#clip340)\" d=\"M130.922 178.568 Q127.311 178.568 125.482 182.132 Q123.677 185.674 123.677 192.804 Q123.677 199.91 125.482 203.475 Q127.311 207.017 130.922 207.017 Q134.556 207.017 136.362 203.475 Q138.191 199.91 138.191 192.804 Q138.191 185.674 136.362 182.132 Q134.556 178.568 130.922 178.568 M130.922 174.864 Q136.732 174.864 139.788 179.47 Q142.867 184.054 142.867 192.804 Q142.867 201.53 139.788 206.137 Q136.732 210.72 130.922 210.72 Q125.112 210.72 122.033 206.137 Q118.978 201.53 118.978 192.804 Q118.978 184.054 122.033 179.47 Q125.112 174.864 130.922 174.864 Z\" fill=\"#000000\" fill-rule=\"evenodd\" fill-opacity=\"1\" /><polyline clip-path=\"url(#clip342)\" style=\"stroke:#009af9; stroke-linecap:butt; stroke-linejoin:round; stroke-width:4; stroke-opacity:1; fill:none\" points=\"\n",
       "  240.392,87.9763 308.753,106.18 377.114,123.269 445.476,139.249 513.837,154.129 582.198,167.927 650.56,180.672 718.921,192.408 787.282,203.196 855.643,213.123 \n",
       "  924.005,222.308 992.366,230.906 1060.73,239.12 1129.09,247.214 1197.45,255.521 1265.81,264.464 1334.17,274.574 1402.53,286.515 1470.9,301.11 1539.26,319.382 \n",
       "  1607.62,342.59 1675.98,372.29 1744.34,410.39 1812.7,459.236 1881.06,521.701 1949.42,601.308 2017.79,702.366 2086.15,830.144 2154.51,991.087 2222.87,1193.07 \n",
       "  2291.23,1445.72 \n",
       "  \"/>\n",
       "<path clip-path=\"url(#clip340)\" d=\"\n",
       "M1986.32 198.898 L2280.29 198.898 L2280.29 95.2176 L1986.32 95.2176  Z\n",
       "  \" fill=\"#ffffff\" fill-rule=\"evenodd\" fill-opacity=\"1\"/>\n",
       "<polyline clip-path=\"url(#clip340)\" style=\"stroke:#000000; stroke-linecap:butt; stroke-linejoin:round; stroke-width:4; stroke-opacity:1; fill:none\" points=\"\n",
       "  1986.32,198.898 2280.29,198.898 2280.29,95.2176 1986.32,95.2176 1986.32,198.898 \n",
       "  \"/>\n",
       "<polyline clip-path=\"url(#clip340)\" style=\"stroke:#009af9; stroke-linecap:butt; stroke-linejoin:round; stroke-width:4; stroke-opacity:1; fill:none\" points=\"\n",
       "  2010.47,147.058 2155.4,147.058 \n",
       "  \"/>\n",
       "<path clip-path=\"url(#clip340)\" d=\"M2193.4 166.745 Q2191.59 171.375 2189.88 172.787 Q2188.17 174.199 2185.29 174.199 L2181.89 174.199 L2181.89 170.634 L2184.39 170.634 Q2186.15 170.634 2187.12 169.8 Q2188.1 168.967 2189.28 165.865 L2190.04 163.921 L2179.55 138.412 L2184.07 138.412 L2192.17 158.689 L2200.27 138.412 L2204.79 138.412 L2193.4 166.745 Z\" fill=\"#000000\" fill-rule=\"evenodd\" fill-opacity=\"1\" /><path clip-path=\"url(#clip340)\" d=\"M2212.08 160.402 L2219.72 160.402 L2219.72 134.037 L2211.41 135.703 L2211.41 131.444 L2219.67 129.778 L2224.35 129.778 L2224.35 160.402 L2231.98 160.402 L2231.98 164.338 L2212.08 164.338 L2212.08 160.402 Z\" fill=\"#000000\" fill-rule=\"evenodd\" fill-opacity=\"1\" /></svg>\n"
      ]
     },
     "execution_count": 84,
     "metadata": {},
     "output_type": "execute_result"
    }
   ],
   "source": [
    "f(x) = 3*x^2 - 2* sin(x) + x - exp(2*x)\n",
    "plot(f, -1:0.1:2)"
   ]
  },
  {
   "cell_type": "code",
   "execution_count": 85,
   "id": "1aea0422",
   "metadata": {},
   "outputs": [
    {
     "data": {
      "text/plain": [
       "(3.5476066863791806, -1.0)"
      ]
     },
     "execution_count": 85,
     "metadata": {},
     "output_type": "execute_result"
    }
   ],
   "source": [
    "f(-1), f(0)"
   ]
  },
  {
   "cell_type": "code",
   "execution_count": 91,
   "id": "4ecb6f33",
   "metadata": {},
   "outputs": [
    {
     "name": "stdout",
     "output_type": "stream",
     "text": [
      "x1: 0, x2: -1\n",
      "secant function: y = -4.547606686379181*x + -1.0\n",
      "x intercept = -0.21989588567436186\n",
      "0: x1=0, x2=-1, x_intercept=-0.21989588567436186\n",
      "\n",
      "x1: 0, x2: -0.21989588567436186\n",
      "secant function: y = -3.2617809371037074*x + -1.0\n",
      "x intercept = -0.30658098115195564\n",
      "1: x1=0, x2=-0.21989588567436186, x_intercept=-0.30658098115195564\n",
      "\n",
      "x1: -0.21989588567436186, x2: -0.30658098115195564\n",
      "secant function: y = -3.6927755836532064*x + -1.0947739495239106\n",
      "x intercept = -0.29646370994493726\n",
      "2: x1=-0.21989588567436186, x2=-0.30658098115195564, x_intercept=-0.29646370994493726\n",
      "\n",
      "x1: -0.30658098115195564, x2: -0.29646370994493726\n",
      "secant function: y = -3.8132020242824174*x + -1.131694405848652\n",
      "x intercept = -0.2967832280173035\n",
      "3: x1=-0.30658098115195564, x2=-0.29646370994493726, x_intercept=-0.2967832280173035\n",
      "\n"
     ]
    },
    {
     "data": {
      "text/plain": [
       "-0.2967832280173035"
      ]
     },
     "execution_count": 91,
     "metadata": {},
     "output_type": "execute_result"
    }
   ],
   "source": [
    "secant(f, 0,-1)"
   ]
  },
  {
   "cell_type": "code",
   "execution_count": null,
   "id": "04b559ea",
   "metadata": {},
   "outputs": [],
   "source": []
  },
  {
   "cell_type": "code",
   "execution_count": null,
   "id": "b0902908",
   "metadata": {},
   "outputs": [],
   "source": []
  },
  {
   "cell_type": "markdown",
   "id": "3b5d789d",
   "metadata": {},
   "source": [
    "## Bisection method"
   ]
  },
  {
   "cell_type": "markdown",
   "id": "f715b040",
   "metadata": {},
   "source": [
    "Desctiption taken from [here](https://www.math.hkust.edu.hk/~machas/numerical-methods-for-engineers.pdf), from [this](https://www.coursera.org/learn/numerical-methods-engineers/lecture/8f5iB/bisection-method-lecture-13) coursera course "
   ]
  },
  {
   "cell_type": "code",
   "execution_count": 31,
   "id": "469fda68",
   "metadata": {},
   "outputs": [
    {
     "name": "stdout",
     "output_type": "stream",
     "text": [
      "Next x = 1.5\n",
      "Next x = 1.25\n",
      "Next x = 1.375\n",
      "Next x = 1.4375\n",
      "Next x = 1.40625\n",
      "Next x = 1.421875\n",
      "Next x = 1.4140625\n",
      "Next x = 1.41796875\n",
      "Next x = 1.416015625\n",
      "Next x = 1.4150390625\n",
      "Next x = 1.41455078125\n",
      "Next x = 1.414306640625\n",
      "Next x = 1.4141845703125\n",
      "SQRT(2) with bisection method: 1.4141845703125, real: 1.4142135623730951\n"
     ]
    }
   ],
   "source": [
    "function bisection(f, x0, x1, iterations=3)\n",
    "    best_root_approximation = -1\n",
    "    while iterations > 0        \n",
    "        iterations -= 1\n",
    "        y0, y1 = f(x0), f(x1)\n",
    "        if y0 * y1 > 0\n",
    "            prinln(\"Positive sign means wrong initial guess with x0=$(x0) and x1=$(x1)!\")\n",
    "            return -1\n",
    "        end\n",
    "        best_root_approximation = x_next = (x0 + x1) / 2\n",
    "        println(\"Next x = $(x_next)\")\n",
    "\n",
    "        # choose a new pair, that \"brackets\" the root\n",
    "        y_next = f(x_next)\n",
    "        if y0 * y_next > 0\n",
    "            x0 = x_next\n",
    "            x1 = x1\n",
    "        else\n",
    "            x0 = x0\n",
    "            x1 = x_next\n",
    "        end\n",
    "    end\n",
    "    return best_root_approximation\n",
    "end\n",
    "\n",
    "f(x) = x^2 - 2\n",
    "root = bisection(f, 1, 2, 13)\n",
    "println(\"SQRT(2) with bisection method: $(root), real: $(sqrt(2))\")"
   ]
  },
  {
   "cell_type": "code",
   "execution_count": 33,
   "id": "111b2a02",
   "metadata": {},
   "outputs": [
    {
     "name": "stdout",
     "output_type": "stream",
     "text": [
      "Next x = 1.5\n",
      "Next x = 1.75\n",
      "Next x = 1.625\n",
      "Next x = 1.6875\n",
      "Next x = 1.71875\n",
      "Next x = 1.734375\n",
      "Next x = 1.7265625\n",
      "Next x = 1.73046875\n",
      "Next x = 1.732421875\n",
      "Next x = 1.7314453125\n",
      "Next x = 1.73193359375\n",
      "Next x = 1.732177734375\n",
      "Next x = 1.7320556640625\n",
      "SQRT(2) with bisection method: 1.7320556640625, real: 1.7320508075688772\n"
     ]
    }
   ],
   "source": [
    "f(x) = x^2 - 3\n",
    "root = bisection(f, 1, 2, 13)\n",
    "println(\"SQRT(2) with bisection method: $(root), real: $(sqrt(3))\")"
   ]
  },
  {
   "cell_type": "code",
   "execution_count": null,
   "id": "eb2a947f",
   "metadata": {},
   "outputs": [],
   "source": []
  },
  {
   "cell_type": "markdown",
   "id": "a028ad54",
   "metadata": {},
   "source": [
    "## Newton's method"
   ]
  },
  {
   "cell_type": "code",
   "execution_count": 5,
   "id": "d7cefde4",
   "metadata": {},
   "outputs": [
    {
     "data": {
      "text/plain": [
       "newton (generic function with 3 methods)"
      ]
     },
     "execution_count": 5,
     "metadata": {},
     "output_type": "execute_result"
    }
   ],
   "source": [
    "function newton(f, f_prime, x_guess, iterations=7, tolerance=10^-5)\n",
    "    x = x_guess\n",
    "    root = 0\n",
    "    i = 1\n",
    "    while i <= iterations\n",
    "        x_next = x - (f(x) / f_prime(x))\n",
    "        root = x_next\n",
    "        println(\"On iteration $(i) f($(x_next)) = $(f(x))\")\n",
    "        if abs(x_next - x) < tolerance\n",
    "            println(\"Stopping at iteration $(i) due to root difference is < than tolerance $(tolerance)\")\n",
    "            return root\n",
    "        end\n",
    "        i += 1\n",
    "        x = x_next\n",
    "    end\n",
    "end"
   ]
  },
  {
   "cell_type": "code",
   "execution_count": 6,
   "id": "e9b678cb",
   "metadata": {},
   "outputs": [
    {
     "name": "stdout",
     "output_type": "stream",
     "text": [
      "On iteration 1 f(5.1) = 98\n",
      "On iteration 2 f(2.7460784313725486) = 24.009999999999998\n",
      "On iteration 3 f(1.7371948743795982) = 5.540946751249517\n",
      "On iteration 4 f(1.444238094866232) = 1.0178460315707478\n",
      "On iteration 5 f(1.4145256551487377) = 0.08582367466284291\n",
      "On iteration 6 f(1.4142135968022693) = 0.0008828290739657518\n",
      "On iteration 7 f(1.4142135623730954) = 9.738041173434908e-8\n",
      "Stopping at iteration 7 due to root difference is < than tolerance 1.0000000000000003e-5\n"
     ]
    },
    {
     "data": {
      "text/plain": [
       "1.4142135623730954"
      ]
     },
     "execution_count": 6,
     "metadata": {},
     "output_type": "execute_result"
    }
   ],
   "source": [
    "f(x) = x^2 - 2\n",
    "f_prime(x) = 2*x\n",
    "newton(f, f_prime, 10)"
   ]
  },
  {
   "cell_type": "code",
   "execution_count": 44,
   "id": "c698b12c",
   "metadata": {},
   "outputs": [
    {
     "name": "stdout",
     "output_type": "stream",
     "text": [
      "On iteration 1 f(1.75) = 1\n",
      "On iteration 2 f(1.7321428571428572) = 0.0625\n",
      "On iteration 3 f(1.7320508100147276) = 0.00031887755102077975\n",
      "On iteration 4 f(1.7320508075688772) = 8.47267411785424e-9\n",
      "Stopping at iteration 4 due to root difference is < than epsilon 1.0000000000000003e-5\n"
     ]
    },
    {
     "data": {
      "text/plain": [
       "1.7320508075688772"
      ]
     },
     "execution_count": 44,
     "metadata": {},
     "output_type": "execute_result"
    }
   ],
   "source": [
    "f(x) = x^2 - 3\n",
    "f_prime(x) = 2*x\n",
    "newton(f, f_prime, 2)"
   ]
  },
  {
   "cell_type": "code",
   "execution_count": null,
   "id": "fb07b2c0",
   "metadata": {},
   "outputs": [],
   "source": []
  },
  {
   "cell_type": "code",
   "execution_count": null,
   "id": "126f3376",
   "metadata": {},
   "outputs": [],
   "source": []
  },
  {
   "cell_type": "markdown",
   "id": "bbab7d9b",
   "metadata": {},
   "source": [
    "## Secant method (Coursera)"
   ]
  },
  {
   "cell_type": "code",
   "execution_count": 21,
   "id": "325fd155",
   "metadata": {},
   "outputs": [
    {
     "name": "stdout",
     "output_type": "stream",
     "text": [
      "2.0\n",
      "8.0\n"
     ]
    }
   ],
   "source": [
    "function approximate_derivative(f, x1, x2)\n",
    "    y1, y2 = f(x1), f(x2)\n",
    "    return (y1-y2) / (x1-x2)\n",
    "end\n",
    "\n",
    "f1(x) = 2*x\n",
    "println(approximate_derivative(f1, 2, 3))\n",
    "\n",
    "f2(x) = x^2 + 3*x - 1\n",
    "println(approximate_derivative(f2, 2, 3))"
   ]
  },
  {
   "cell_type": "code",
   "execution_count": 29,
   "id": "1765d077",
   "metadata": {},
   "outputs": [
    {
     "name": "stdout",
     "output_type": "stream",
     "text": [
      "0: x3 = 1.3333333333333335\n",
      "1: x3 = 1.4000000000000001\n",
      "2: x3 = 1.4146341463414633\n",
      "3: x3 = 1.41421143847487\n",
      "4: x3 = 1.4142135620573204\n",
      "Reached the tolerance of 1.0000000000000003e-5\n",
      "0: x3 = 1.1818181818181817\n",
      "1: x3 = 1.3252032520325203\n",
      "2: x3 = 1.8213443396226414\n",
      "3: x3 = 1.7205051836165723\n",
      "4: x3 = 1.7317597309616692\n",
      "5: x3 = 1.7320517810344518\n",
      "6: x3 = 1.7320508074870735\n",
      "Reached the tolerance of 1.0000000000000003e-5\n",
      "0: x3 = 3.2727272727272725\n",
      "1: x3 = 3.3548817060979674\n",
      "2: x3 = 3.386268592696366\n",
      "3: x3 = 3.384398481477109\n",
      "4: x3 = 3.3844273197099044\n",
      "5: x3 = 3.384427347558526\n",
      "Reached the tolerance of 1.0000000000000003e-5\n"
     ]
    },
    {
     "data": {
      "text/plain": [
       "3.384427347558526"
      ]
     },
     "execution_count": 29,
     "metadata": {},
     "output_type": "execute_result"
    }
   ],
   "source": [
    "# x_n+1 = x_n - f(x_n) /  f*(x_n)\n",
    "function secant_coursera(f, x1, x2, iterations=7, tolerance=10^-5)\n",
    "    i = 0\n",
    "    while i < iterations\n",
    "        x3 = x2 - (f(x2) / approximate_derivative(f, x2, x1))\n",
    "        println(\"$(i): x3 = $(x3)\")\n",
    "        if abs(x3-x2) < tolerance\n",
    "            println(\"Reached the tolerance of $(tolerance)\")\n",
    "            return x3\n",
    "        end\n",
    "        \n",
    "        x1, x2 = x2, x3\n",
    "        i += 1\n",
    "    end\n",
    "end\n",
    "\n",
    "f(x) = x^2 - 2\n",
    "root = secant_coursera(f, 1,2)\n",
    "\n",
    "f(x) = x^2 - 3\n",
    "root = secant_coursera(f, 1, 10, 100)\n",
    "\n",
    "f(x) = x^3 -15*x + 12\n",
    "root = secant_coursera(f, 3, 4, 10)"
   ]
  },
  {
   "cell_type": "markdown",
   "id": "32d910e8",
   "metadata": {},
   "source": [
    "## 1.6 Introduction to the Julia Language"
   ]
  },
  {
   "cell_type": "code",
   "execution_count": 1,
   "id": "a66d635d",
   "metadata": {},
   "outputs": [
    {
     "data": {
      "text/plain": [
       "4//3"
      ]
     },
     "execution_count": 1,
     "metadata": {},
     "output_type": "execute_result"
    }
   ],
   "source": [
    "4//3"
   ]
  },
  {
   "cell_type": "code",
   "execution_count": 4,
   "id": "34f4d53d",
   "metadata": {},
   "outputs": [
    {
     "data": {
      "text/plain": [
       "90.0"
      ]
     },
     "execution_count": 4,
     "metadata": {},
     "output_type": "execute_result"
    }
   ],
   "source": [
    "rad2deg(pi/2)"
   ]
  },
  {
   "cell_type": "code",
   "execution_count": null,
   "id": "21a521ee",
   "metadata": {},
   "outputs": [],
   "source": [
    "pi"
   ]
  },
  {
   "cell_type": "code",
   "execution_count": 6,
   "id": "a7c01630",
   "metadata": {},
   "outputs": [
    {
     "data": {
      "text/plain": [
       "7"
      ]
     },
     "execution_count": 6,
     "metadata": {},
     "output_type": "execute_result"
    }
   ],
   "source": [
    "g(x,y) = x + y\n",
    "g(2,5)"
   ]
  },
  {
   "cell_type": "code",
   "execution_count": 7,
   "id": "9502a551",
   "metadata": {},
   "outputs": [
    {
     "data": {
      "text/plain": [
       "4"
      ]
     },
     "execution_count": 7,
     "metadata": {},
     "output_type": "execute_result"
    }
   ],
   "source": [
    "x = g(2,2)"
   ]
  },
  {
   "cell_type": "code",
   "execution_count": 8,
   "id": "08857726",
   "metadata": {},
   "outputs": [
    {
     "data": {
      "text/plain": [
       "4"
      ]
     },
     "execution_count": 8,
     "metadata": {},
     "output_type": "execute_result"
    }
   ],
   "source": [
    "x"
   ]
  },
  {
   "cell_type": "code",
   "execution_count": 9,
   "id": "cb2a3430",
   "metadata": {},
   "outputs": [
    {
     "data": {
      "text/plain": [
       "1-element Vector{UnitRange{Int64}}:\n",
       " 1:5"
      ]
     },
     "execution_count": 9,
     "metadata": {},
     "output_type": "execute_result"
    }
   ],
   "source": [
    "a2 = [1:5]"
   ]
  },
  {
   "cell_type": "code",
   "execution_count": 14,
   "id": "48a3c042",
   "metadata": {},
   "outputs": [
    {
     "data": {
      "text/plain": [
       "UnitRange{Int64}"
      ]
     },
     "execution_count": 14,
     "metadata": {},
     "output_type": "execute_result"
    }
   ],
   "source": [
    "typeof(1:5)"
   ]
  },
  {
   "cell_type": "code",
   "execution_count": null,
   "id": "8e675d22",
   "metadata": {},
   "outputs": [],
   "source": []
  }
 ],
 "metadata": {
  "kernelspec": {
   "display_name": "Julia 1.6.2",
   "language": "julia",
   "name": "julia-1.6"
  },
  "language_info": {
   "file_extension": ".jl",
   "mimetype": "application/julia",
   "name": "julia",
   "version": "1.6.2"
  }
 },
 "nbformat": 4,
 "nbformat_minor": 5
}
