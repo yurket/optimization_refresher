{
 "cells": [
  {
   "cell_type": "markdown",
   "id": "fe963f58",
   "metadata": {},
   "source": [
    "## 1.5 Secant method"
   ]
  },
  {
   "cell_type": "code",
   "execution_count": 2,
   "id": "a268a6e4",
   "metadata": {},
   "outputs": [
    {
     "name": "stdout",
     "output_type": "stream",
     "text": [
      "x1: 3, x2: 4\n",
      "secant function: y = 22.0*x + -72.0\n",
      "x intercept = 3.272727272727273, iterations left: 2\n",
      "x1: 3, x2: 3.272727272727273\n",
      "secant function: y = 14.528925619834714*x + -49.58677685950414\n",
      "x intercept = 3.41296928327645, iterations left: 1\n",
      "x1: 3, x2: 3.41296928327645\n",
      "secant function: y = 15.887267178417936*x + -53.66180153525381\n",
      "x intercept = 3.3776609238466575, iterations left: 0\n"
     ]
    },
    {
     "data": {
      "text/plain": [
       "3.3776609238466575"
      ]
     },
     "execution_count": 2,
     "metadata": {},
     "output_type": "execute_result"
    }
   ],
   "source": [
    "f(x) = x^3 -15*x + 12\n",
    "\n",
    "function find_x_intercept(f, x1, x2, iterations=3)\n",
    "    x_intercept = 0\n",
    "    while iterations != 0\n",
    "        iterations -= 1\n",
    "        println(\"x1: $(x1), x2: $(x2)\")\n",
    "        y1, y2 = f(x1), f(x2)\n",
    "\n",
    "        # line equation: y = k*x + b\n",
    "        k = (y1-y2) / (x1-x2)\n",
    "        b = y1 - k*x1\n",
    "\n",
    "        println(\"secant function: y = $(k)*x + $(b)\")\n",
    "        # find x-intercept, with 0 = kx + b\n",
    "        x_intercept = -b / k\n",
    "        println(\"x intercept = $(x_intercept), iterations left: $(iterations)\")\n",
    "        \n",
    "        if k > 0\n",
    "            x1, x2 = x1, x_intercept\n",
    "        else\n",
    "            x1, x2 = x_intercept, x2\n",
    "        end\n",
    "\n",
    "    end\n",
    "    return x_intercept\n",
    "end\n",
    "\n",
    "find_x_intercept(f, 3,4)"
   ]
  },
  {
   "cell_type": "code",
   "execution_count": null,
   "id": "81fc3ad4",
   "metadata": {},
   "outputs": [],
   "source": []
  },
  {
   "cell_type": "code",
   "execution_count": null,
   "id": "3c54a240",
   "metadata": {},
   "outputs": [],
   "source": []
  },
  {
   "cell_type": "markdown",
   "id": "32d910e8",
   "metadata": {},
   "source": [
    "## 1.6 Introduction to the Julia Language"
   ]
  },
  {
   "cell_type": "code",
   "execution_count": 1,
   "id": "a66d635d",
   "metadata": {},
   "outputs": [
    {
     "data": {
      "text/plain": [
       "4//3"
      ]
     },
     "execution_count": 1,
     "metadata": {},
     "output_type": "execute_result"
    }
   ],
   "source": [
    "4//3"
   ]
  },
  {
   "cell_type": "code",
   "execution_count": 4,
   "id": "34f4d53d",
   "metadata": {},
   "outputs": [
    {
     "data": {
      "text/plain": [
       "90.0"
      ]
     },
     "execution_count": 4,
     "metadata": {},
     "output_type": "execute_result"
    }
   ],
   "source": [
    "rad2deg(pi/2)"
   ]
  },
  {
   "cell_type": "code",
   "execution_count": null,
   "id": "21a521ee",
   "metadata": {},
   "outputs": [],
   "source": [
    "pi"
   ]
  },
  {
   "cell_type": "code",
   "execution_count": 6,
   "id": "a7c01630",
   "metadata": {},
   "outputs": [
    {
     "data": {
      "text/plain": [
       "7"
      ]
     },
     "execution_count": 6,
     "metadata": {},
     "output_type": "execute_result"
    }
   ],
   "source": [
    "g(x,y) = x + y\n",
    "g(2,5)"
   ]
  },
  {
   "cell_type": "code",
   "execution_count": 7,
   "id": "9502a551",
   "metadata": {},
   "outputs": [
    {
     "data": {
      "text/plain": [
       "4"
      ]
     },
     "execution_count": 7,
     "metadata": {},
     "output_type": "execute_result"
    }
   ],
   "source": [
    "x = g(2,2)"
   ]
  },
  {
   "cell_type": "code",
   "execution_count": 8,
   "id": "08857726",
   "metadata": {},
   "outputs": [
    {
     "data": {
      "text/plain": [
       "4"
      ]
     },
     "execution_count": 8,
     "metadata": {},
     "output_type": "execute_result"
    }
   ],
   "source": [
    "x"
   ]
  },
  {
   "cell_type": "code",
   "execution_count": 9,
   "id": "cb2a3430",
   "metadata": {},
   "outputs": [
    {
     "data": {
      "text/plain": [
       "1-element Vector{UnitRange{Int64}}:\n",
       " 1:5"
      ]
     },
     "execution_count": 9,
     "metadata": {},
     "output_type": "execute_result"
    }
   ],
   "source": [
    "a2 = [1:5]"
   ]
  },
  {
   "cell_type": "code",
   "execution_count": 14,
   "id": "48a3c042",
   "metadata": {},
   "outputs": [
    {
     "data": {
      "text/plain": [
       "UnitRange{Int64}"
      ]
     },
     "execution_count": 14,
     "metadata": {},
     "output_type": "execute_result"
    }
   ],
   "source": [
    "typeof(1:5)"
   ]
  },
  {
   "cell_type": "code",
   "execution_count": null,
   "id": "8e675d22",
   "metadata": {},
   "outputs": [],
   "source": []
  }
 ],
 "metadata": {
  "kernelspec": {
   "display_name": "Julia 1.6.2",
   "language": "julia",
   "name": "julia-1.6"
  },
  "language_info": {
   "file_extension": ".jl",
   "mimetype": "application/julia",
   "name": "julia",
   "version": "1.6.2"
  }
 },
 "nbformat": 4,
 "nbformat_minor": 5
}
