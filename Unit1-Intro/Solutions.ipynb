{
 "cells": [
  {
   "cell_type": "code",
   "execution_count": 3,
   "id": "4049ff06",
   "metadata": {},
   "outputs": [],
   "source": [
    "using Plots"
   ]
  },
  {
   "cell_type": "markdown",
   "id": "fe963f58",
   "metadata": {},
   "source": [
    "## 1.5 Secant method"
   ]
  },
  {
   "cell_type": "code",
   "execution_count": 12,
   "id": "a0a67865",
   "metadata": {},
   "outputs": [
    {
     "data": {
      "text/plain": [
       "f (generic function with 1 method)"
      ]
     },
     "execution_count": 12,
     "metadata": {},
     "output_type": "execute_result"
    }
   ],
   "source": [
    "f(x) = x^3 -15*x + 12"
   ]
  },
  {
   "cell_type": "code",
   "execution_count": 18,
   "id": "c1133b2c",
   "metadata": {},
   "outputs": [
    {
     "data": {
      "image/svg+xml": [
       "<?xml version=\"1.0\" encoding=\"utf-8\"?>\n",
       "<svg xmlns=\"http://www.w3.org/2000/svg\" xmlns:xlink=\"http://www.w3.org/1999/xlink\" width=\"600\" height=\"400\" viewBox=\"0 0 2400 1600\">\n",
       "<defs>\n",
       "  <clipPath id=\"clip370\">\n",
       "    <rect x=\"0\" y=\"0\" width=\"2400\" height=\"1600\"/>\n",
       "  </clipPath>\n",
       "</defs>\n",
       "<path clip-path=\"url(#clip370)\" d=\"\n",
       "M0 1600 L2400 1600 L2400 0 L0 0  Z\n",
       "  \" fill=\"#ffffff\" fill-rule=\"evenodd\" fill-opacity=\"1\"/>\n",
       "<defs>\n",
       "  <clipPath id=\"clip371\">\n",
       "    <rect x=\"480\" y=\"0\" width=\"1681\" height=\"1600\"/>\n",
       "  </clipPath>\n",
       "</defs>\n",
       "<path clip-path=\"url(#clip370)\" d=\"\n",
       "M177.871 1486.45 L2352.76 1486.45 L2352.76 47.2441 L177.871 47.2441  Z\n",
       "  \" fill=\"#ffffff\" fill-rule=\"evenodd\" fill-opacity=\"1\"/>\n",
       "<defs>\n",
       "  <clipPath id=\"clip372\">\n",
       "    <rect x=\"177\" y=\"47\" width=\"2176\" height=\"1440\"/>\n",
       "  </clipPath>\n",
       "</defs>\n",
       "<polyline clip-path=\"url(#clip372)\" style=\"stroke:#000000; stroke-linecap:butt; stroke-linejoin:round; stroke-width:2; stroke-opacity:0.1; fill:none\" points=\"\n",
       "  444.602,1486.45 444.602,47.2441 \n",
       "  \"/>\n",
       "<polyline clip-path=\"url(#clip372)\" style=\"stroke:#000000; stroke-linecap:butt; stroke-linejoin:round; stroke-width:2; stroke-opacity:0.1; fill:none\" points=\"\n",
       "  854.958,1486.45 854.958,47.2441 \n",
       "  \"/>\n",
       "<polyline clip-path=\"url(#clip372)\" style=\"stroke:#000000; stroke-linecap:butt; stroke-linejoin:round; stroke-width:2; stroke-opacity:0.1; fill:none\" points=\"\n",
       "  1265.31,1486.45 1265.31,47.2441 \n",
       "  \"/>\n",
       "<polyline clip-path=\"url(#clip372)\" style=\"stroke:#000000; stroke-linecap:butt; stroke-linejoin:round; stroke-width:2; stroke-opacity:0.1; fill:none\" points=\"\n",
       "  1675.67,1486.45 1675.67,47.2441 \n",
       "  \"/>\n",
       "<polyline clip-path=\"url(#clip372)\" style=\"stroke:#000000; stroke-linecap:butt; stroke-linejoin:round; stroke-width:2; stroke-opacity:0.1; fill:none\" points=\"\n",
       "  2086.02,1486.45 2086.02,47.2441 \n",
       "  \"/>\n",
       "<polyline clip-path=\"url(#clip370)\" style=\"stroke:#000000; stroke-linecap:butt; stroke-linejoin:round; stroke-width:4; stroke-opacity:1; fill:none\" points=\"\n",
       "  177.871,1486.45 2352.76,1486.45 \n",
       "  \"/>\n",
       "<polyline clip-path=\"url(#clip370)\" style=\"stroke:#000000; stroke-linecap:butt; stroke-linejoin:round; stroke-width:4; stroke-opacity:1; fill:none\" points=\"\n",
       "  444.602,1486.45 444.602,1467.55 \n",
       "  \"/>\n",
       "<polyline clip-path=\"url(#clip370)\" style=\"stroke:#000000; stroke-linecap:butt; stroke-linejoin:round; stroke-width:4; stroke-opacity:1; fill:none\" points=\"\n",
       "  854.958,1486.45 854.958,1467.55 \n",
       "  \"/>\n",
       "<polyline clip-path=\"url(#clip370)\" style=\"stroke:#000000; stroke-linecap:butt; stroke-linejoin:round; stroke-width:4; stroke-opacity:1; fill:none\" points=\"\n",
       "  1265.31,1486.45 1265.31,1467.55 \n",
       "  \"/>\n",
       "<polyline clip-path=\"url(#clip370)\" style=\"stroke:#000000; stroke-linecap:butt; stroke-linejoin:round; stroke-width:4; stroke-opacity:1; fill:none\" points=\"\n",
       "  1675.67,1486.45 1675.67,1467.55 \n",
       "  \"/>\n",
       "<polyline clip-path=\"url(#clip370)\" style=\"stroke:#000000; stroke-linecap:butt; stroke-linejoin:round; stroke-width:4; stroke-opacity:1; fill:none\" points=\"\n",
       "  2086.02,1486.45 2086.02,1467.55 \n",
       "  \"/>\n",
       "<path clip-path=\"url(#clip370)\" d=\"M413.503 1530.29 L443.179 1530.29 L443.179 1534.23 L413.503 1534.23 L413.503 1530.29 Z\" fill=\"#000000\" fill-rule=\"evenodd\" fill-opacity=\"1\" /><path clip-path=\"url(#clip370)\" d=\"M466.118 1516.63 L454.313 1535.08 L466.118 1535.08 L466.118 1516.63 M464.892 1512.56 L470.771 1512.56 L470.771 1535.08 L475.702 1535.08 L475.702 1538.97 L470.771 1538.97 L470.771 1547.12 L466.118 1547.12 L466.118 1538.97 L450.517 1538.97 L450.517 1534.46 L464.892 1512.56 Z\" fill=\"#000000\" fill-rule=\"evenodd\" fill-opacity=\"1\" /><path clip-path=\"url(#clip370)\" d=\"M824.9 1530.29 L854.576 1530.29 L854.576 1534.23 L824.9 1534.23 L824.9 1530.29 Z\" fill=\"#000000\" fill-rule=\"evenodd\" fill-opacity=\"1\" /><path clip-path=\"url(#clip370)\" d=\"M868.696 1543.18 L885.016 1543.18 L885.016 1547.12 L863.071 1547.12 L863.071 1543.18 Q865.733 1540.43 870.317 1535.8 Q874.923 1531.15 876.104 1529.81 Q878.349 1527.28 879.229 1525.55 Q880.131 1523.79 880.131 1522.1 Q880.131 1519.34 878.187 1517.61 Q876.266 1515.87 873.164 1515.87 Q870.965 1515.87 868.511 1516.63 Q866.081 1517.4 863.303 1518.95 L863.303 1514.23 Q866.127 1513.09 868.581 1512.51 Q871.034 1511.93 873.071 1511.93 Q878.442 1511.93 881.636 1514.62 Q884.831 1517.31 884.831 1521.8 Q884.831 1523.93 884.02 1525.85 Q883.233 1527.74 881.127 1530.34 Q880.548 1531.01 877.446 1534.23 Q874.344 1537.42 868.696 1543.18 Z\" fill=\"#000000\" fill-rule=\"evenodd\" fill-opacity=\"1\" /><path clip-path=\"url(#clip370)\" d=\"M1265.31 1515.64 Q1261.7 1515.64 1259.87 1519.2 Q1258.07 1522.75 1258.07 1529.87 Q1258.07 1536.98 1259.87 1540.55 Q1261.7 1544.09 1265.31 1544.09 Q1268.95 1544.09 1270.75 1540.55 Q1272.58 1536.98 1272.58 1529.87 Q1272.58 1522.75 1270.75 1519.2 Q1268.95 1515.64 1265.31 1515.64 M1265.31 1511.93 Q1271.12 1511.93 1274.18 1516.54 Q1277.26 1521.12 1277.26 1529.87 Q1277.26 1538.6 1274.18 1543.21 Q1271.12 1547.79 1265.31 1547.79 Q1259.5 1547.79 1256.42 1543.21 Q1253.37 1538.6 1253.37 1529.87 Q1253.37 1521.12 1256.42 1516.54 Q1259.5 1511.93 1265.31 1511.93 Z\" fill=\"#000000\" fill-rule=\"evenodd\" fill-opacity=\"1\" /><path clip-path=\"url(#clip370)\" d=\"M1670.32 1543.18 L1686.64 1543.18 L1686.64 1547.12 L1664.7 1547.12 L1664.7 1543.18 Q1667.36 1540.43 1671.94 1535.8 Q1676.55 1531.15 1677.73 1529.81 Q1679.97 1527.28 1680.85 1525.55 Q1681.76 1523.79 1681.76 1522.1 Q1681.76 1519.34 1679.81 1517.61 Q1677.89 1515.87 1674.79 1515.87 Q1672.59 1515.87 1670.14 1516.63 Q1667.71 1517.4 1664.93 1518.95 L1664.93 1514.23 Q1667.75 1513.09 1670.21 1512.51 Q1672.66 1511.93 1674.7 1511.93 Q1680.07 1511.93 1683.26 1514.62 Q1686.46 1517.31 1686.46 1521.8 Q1686.46 1523.93 1685.65 1525.85 Q1684.86 1527.74 1682.75 1530.34 Q1682.17 1531.01 1679.07 1534.23 Q1675.97 1537.42 1670.32 1543.18 Z\" fill=\"#000000\" fill-rule=\"evenodd\" fill-opacity=\"1\" /><path clip-path=\"url(#clip370)\" d=\"M2089.03 1516.63 L2077.23 1535.08 L2089.03 1535.08 L2089.03 1516.63 M2087.81 1512.56 L2093.69 1512.56 L2093.69 1535.08 L2098.62 1535.08 L2098.62 1538.97 L2093.69 1538.97 L2093.69 1547.12 L2089.03 1547.12 L2089.03 1538.97 L2073.43 1538.97 L2073.43 1534.46 L2087.81 1512.56 Z\" fill=\"#000000\" fill-rule=\"evenodd\" fill-opacity=\"1\" /><polyline clip-path=\"url(#clip372)\" style=\"stroke:#000000; stroke-linecap:butt; stroke-linejoin:round; stroke-width:2; stroke-opacity:0.1; fill:none\" points=\"\n",
       "  177.871,1269.21 2352.76,1269.21 \n",
       "  \"/>\n",
       "<polyline clip-path=\"url(#clip372)\" style=\"stroke:#000000; stroke-linecap:butt; stroke-linejoin:round; stroke-width:2; stroke-opacity:0.1; fill:none\" points=\"\n",
       "  177.871,929.775 2352.76,929.775 \n",
       "  \"/>\n",
       "<polyline clip-path=\"url(#clip372)\" style=\"stroke:#000000; stroke-linecap:butt; stroke-linejoin:round; stroke-width:2; stroke-opacity:0.1; fill:none\" points=\"\n",
       "  177.871,590.34 2352.76,590.34 \n",
       "  \"/>\n",
       "<polyline clip-path=\"url(#clip372)\" style=\"stroke:#000000; stroke-linecap:butt; stroke-linejoin:round; stroke-width:2; stroke-opacity:0.1; fill:none\" points=\"\n",
       "  177.871,250.905 2352.76,250.905 \n",
       "  \"/>\n",
       "<polyline clip-path=\"url(#clip370)\" style=\"stroke:#000000; stroke-linecap:butt; stroke-linejoin:round; stroke-width:4; stroke-opacity:1; fill:none\" points=\"\n",
       "  177.871,1486.45 177.871,47.2441 \n",
       "  \"/>\n",
       "<polyline clip-path=\"url(#clip370)\" style=\"stroke:#000000; stroke-linecap:butt; stroke-linejoin:round; stroke-width:4; stroke-opacity:1; fill:none\" points=\"\n",
       "  177.871,1269.21 196.769,1269.21 \n",
       "  \"/>\n",
       "<polyline clip-path=\"url(#clip370)\" style=\"stroke:#000000; stroke-linecap:butt; stroke-linejoin:round; stroke-width:4; stroke-opacity:1; fill:none\" points=\"\n",
       "  177.871,929.775 196.769,929.775 \n",
       "  \"/>\n",
       "<polyline clip-path=\"url(#clip370)\" style=\"stroke:#000000; stroke-linecap:butt; stroke-linejoin:round; stroke-width:4; stroke-opacity:1; fill:none\" points=\"\n",
       "  177.871,590.34 196.769,590.34 \n",
       "  \"/>\n",
       "<polyline clip-path=\"url(#clip370)\" style=\"stroke:#000000; stroke-linecap:butt; stroke-linejoin:round; stroke-width:4; stroke-opacity:1; fill:none\" points=\"\n",
       "  177.871,250.905 196.769,250.905 \n",
       "  \"/>\n",
       "<path clip-path=\"url(#clip370)\" d=\"M50.9921 1269.66 L80.6679 1269.66 L80.6679 1273.6 L50.9921 1273.6 L50.9921 1269.66 Z\" fill=\"#000000\" fill-rule=\"evenodd\" fill-opacity=\"1\" /><path clip-path=\"url(#clip370)\" d=\"M94.7882 1282.55 L111.108 1282.55 L111.108 1286.49 L89.1632 1286.49 L89.1632 1282.55 Q91.8252 1279.8 96.4085 1275.17 Q101.015 1270.52 102.196 1269.17 Q104.441 1266.65 105.321 1264.92 Q106.223 1263.16 106.223 1261.47 Q106.223 1258.71 104.279 1256.98 Q102.358 1255.24 99.2558 1255.24 Q97.0567 1255.24 94.603 1256 Q92.1725 1256.77 89.3947 1258.32 L89.3947 1253.6 Q92.2188 1252.46 94.6724 1251.88 Q97.1261 1251.3 99.1632 1251.3 Q104.534 1251.3 107.728 1253.99 Q110.922 1256.67 110.922 1261.17 Q110.922 1263.3 110.112 1265.22 Q109.325 1267.11 107.219 1269.71 Q106.64 1270.38 103.538 1273.6 Q100.436 1276.79 94.7882 1282.55 Z\" fill=\"#000000\" fill-rule=\"evenodd\" fill-opacity=\"1\" /><path clip-path=\"url(#clip370)\" d=\"M120.969 1251.93 L139.325 1251.93 L139.325 1255.86 L125.251 1255.86 L125.251 1264.34 Q126.27 1263.99 127.288 1263.83 Q128.307 1263.64 129.325 1263.64 Q135.112 1263.64 138.492 1266.81 Q141.871 1269.99 141.871 1275.4 Q141.871 1280.98 138.399 1284.08 Q134.927 1287.16 128.607 1287.16 Q126.432 1287.16 124.163 1286.79 Q121.918 1286.42 119.51 1285.68 L119.51 1280.98 Q121.594 1282.11 123.816 1282.67 Q126.038 1283.23 128.515 1283.23 Q132.519 1283.23 134.857 1281.12 Q137.195 1279.01 137.195 1275.4 Q137.195 1271.79 134.857 1269.68 Q132.519 1267.58 128.515 1267.58 Q126.64 1267.58 124.765 1267.99 Q122.913 1268.41 120.969 1269.29 L120.969 1251.93 Z\" fill=\"#000000\" fill-rule=\"evenodd\" fill-opacity=\"1\" /><path clip-path=\"url(#clip370)\" d=\"M129.927 915.573 Q126.316 915.573 124.487 919.138 Q122.682 922.68 122.682 929.809 Q122.682 936.916 124.487 940.481 Q126.316 944.022 129.927 944.022 Q133.561 944.022 135.367 940.481 Q137.195 936.916 137.195 929.809 Q137.195 922.68 135.367 919.138 Q133.561 915.573 129.927 915.573 M129.927 911.87 Q135.737 911.87 138.793 916.476 Q141.871 921.059 141.871 929.809 Q141.871 938.536 138.793 943.143 Q135.737 947.726 129.927 947.726 Q124.117 947.726 121.038 943.143 Q117.983 938.536 117.983 929.809 Q117.983 921.059 121.038 916.476 Q124.117 911.87 129.927 911.87 Z\" fill=\"#000000\" fill-rule=\"evenodd\" fill-opacity=\"1\" /><path clip-path=\"url(#clip370)\" d=\"M94.7882 603.685 L111.108 603.685 L111.108 607.62 L89.1632 607.62 L89.1632 603.685 Q91.8252 600.93 96.4085 596.3 Q101.015 591.648 102.196 590.305 Q104.441 587.782 105.321 586.046 Q106.223 584.287 106.223 582.597 Q106.223 579.842 104.279 578.106 Q102.358 576.37 99.2558 576.37 Q97.0567 576.37 94.603 577.134 Q92.1725 577.898 89.3947 579.449 L89.3947 574.727 Q92.2188 573.592 94.6724 573.014 Q97.1261 572.435 99.1632 572.435 Q104.534 572.435 107.728 575.12 Q110.922 577.805 110.922 582.296 Q110.922 584.426 110.112 586.347 Q109.325 588.245 107.219 590.838 Q106.64 591.509 103.538 594.726 Q100.436 597.921 94.7882 603.685 Z\" fill=\"#000000\" fill-rule=\"evenodd\" fill-opacity=\"1\" /><path clip-path=\"url(#clip370)\" d=\"M120.969 573.06 L139.325 573.06 L139.325 576.995 L125.251 576.995 L125.251 585.467 Q126.27 585.12 127.288 584.958 Q128.307 584.773 129.325 584.773 Q135.112 584.773 138.492 587.944 Q141.871 591.115 141.871 596.532 Q141.871 602.111 138.399 605.212 Q134.927 608.291 128.607 608.291 Q126.432 608.291 124.163 607.921 Q121.918 607.55 119.51 606.81 L119.51 602.111 Q121.594 603.245 123.816 603.8 Q126.038 604.356 128.515 604.356 Q132.519 604.356 134.857 602.25 Q137.195 600.143 137.195 596.532 Q137.195 592.921 134.857 590.814 Q132.519 588.708 128.515 588.708 Q126.64 588.708 124.765 589.125 Q122.913 589.541 120.969 590.421 L120.969 573.06 Z\" fill=\"#000000\" fill-rule=\"evenodd\" fill-opacity=\"1\" /><path clip-path=\"url(#clip370)\" d=\"M89.8114 233.625 L108.168 233.625 L108.168 237.56 L94.0937 237.56 L94.0937 246.032 Q95.1123 245.685 96.1308 245.523 Q97.1493 245.338 98.1678 245.338 Q103.955 245.338 107.334 248.509 Q110.714 251.68 110.714 257.097 Q110.714 262.676 107.242 265.778 Q103.77 268.856 97.4502 268.856 Q95.2743 268.856 93.0058 268.486 Q90.7604 268.116 88.353 267.375 L88.353 262.676 Q90.4364 263.81 92.6586 264.366 Q94.8808 264.921 97.3576 264.921 Q101.362 264.921 103.7 262.815 Q106.038 260.708 106.038 257.097 Q106.038 253.486 103.7 251.38 Q101.362 249.273 97.3576 249.273 Q95.4826 249.273 93.6076 249.69 Q91.7558 250.106 89.8114 250.986 L89.8114 233.625 Z\" fill=\"#000000\" fill-rule=\"evenodd\" fill-opacity=\"1\" /><path clip-path=\"url(#clip370)\" d=\"M129.927 236.704 Q126.316 236.704 124.487 240.268 Q122.682 243.81 122.682 250.94 Q122.682 258.046 124.487 261.611 Q126.316 265.153 129.927 265.153 Q133.561 265.153 135.367 261.611 Q137.195 258.046 137.195 250.94 Q137.195 243.81 135.367 240.268 Q133.561 236.704 129.927 236.704 M129.927 233 Q135.737 233 138.793 237.606 Q141.871 242.19 141.871 250.94 Q141.871 259.667 138.793 264.273 Q135.737 268.856 129.927 268.856 Q124.117 268.856 121.038 264.273 Q117.983 259.667 117.983 250.94 Q117.983 242.19 121.038 237.606 Q124.117 233 129.927 233 Z\" fill=\"#000000\" fill-rule=\"evenodd\" fill-opacity=\"1\" /><polyline clip-path=\"url(#clip372)\" style=\"stroke:#009af9; stroke-linecap:butt; stroke-linejoin:round; stroke-width:4; stroke-opacity:1; fill:none\" points=\"\n",
       "  239.425,1445.72 444.602,821.156 649.78,522.453 854.958,468.143 1060.14,576.762 1265.31,766.846 1470.49,956.93 1675.67,1065.55 1880.85,1011.24 2086.02,712.536 \n",
       "  2291.2,87.9763 \n",
       "  \"/>\n",
       "<path clip-path=\"url(#clip370)\" d=\"\n",
       "M1986.18 198.898 L2280.26 198.898 L2280.26 95.2176 L1986.18 95.2176  Z\n",
       "  \" fill=\"#ffffff\" fill-rule=\"evenodd\" fill-opacity=\"1\"/>\n",
       "<polyline clip-path=\"url(#clip370)\" style=\"stroke:#000000; stroke-linecap:butt; stroke-linejoin:round; stroke-width:4; stroke-opacity:1; fill:none\" points=\"\n",
       "  1986.18,198.898 2280.26,198.898 2280.26,95.2176 1986.18,95.2176 1986.18,198.898 \n",
       "  \"/>\n",
       "<polyline clip-path=\"url(#clip370)\" style=\"stroke:#009af9; stroke-linecap:butt; stroke-linejoin:round; stroke-width:4; stroke-opacity:1; fill:none\" points=\"\n",
       "  2010.34,147.058 2155.33,147.058 \n",
       "  \"/>\n",
       "<path clip-path=\"url(#clip370)\" d=\"M2193.34 166.745 Q2191.54 171.375 2189.82 172.787 Q2188.11 174.199 2185.24 174.199 L2181.84 174.199 L2181.84 170.634 L2184.34 170.634 Q2186.1 170.634 2187.07 169.8 Q2188.04 168.967 2189.22 165.865 L2189.98 163.921 L2179.5 138.412 L2184.01 138.412 L2192.11 158.689 L2200.22 138.412 L2204.73 138.412 L2193.34 166.745 Z\" fill=\"#000000\" fill-rule=\"evenodd\" fill-opacity=\"1\" /><path clip-path=\"url(#clip370)\" d=\"M2212.02 160.402 L2219.66 160.402 L2219.66 134.037 L2211.35 135.703 L2211.35 131.444 L2219.61 129.778 L2224.29 129.778 L2224.29 160.402 L2231.93 160.402 L2231.93 164.338 L2212.02 164.338 L2212.02 160.402 Z\" fill=\"#000000\" fill-rule=\"evenodd\" fill-opacity=\"1\" /></svg>\n"
      ]
     },
     "execution_count": 18,
     "metadata": {},
     "output_type": "execute_result"
    }
   ],
   "source": [
    "plot(f, -5:5)"
   ]
  },
  {
   "cell_type": "code",
   "execution_count": 2,
   "id": "a268a6e4",
   "metadata": {},
   "outputs": [
    {
     "name": "stdout",
     "output_type": "stream",
     "text": [
      "x1: 3, x2: 4\n",
      "secant function: y = 22.0*x + -72.0\n",
      "x intercept = 3.272727272727273, iterations left: 2\n",
      "x1: 3, x2: 3.272727272727273\n",
      "secant function: y = 14.528925619834714*x + -49.58677685950414\n",
      "x intercept = 3.41296928327645, iterations left: 1\n",
      "x1: 3, x2: 3.41296928327645\n",
      "secant function: y = 15.887267178417936*x + -53.66180153525381\n",
      "x intercept = 3.3776609238466575, iterations left: 0\n"
     ]
    },
    {
     "data": {
      "text/plain": [
       "3.3776609238466575"
      ]
     },
     "execution_count": 2,
     "metadata": {},
     "output_type": "execute_result"
    }
   ],
   "source": [
    "function find_x_intercept(f, x1, x2, iterations=3)\n",
    "    x_intercept = 0\n",
    "    while iterations != 0\n",
    "        iterations -= 1\n",
    "        println(\"x1: $(x1), x2: $(x2)\")\n",
    "        y1, y2 = f(x1), f(x2)\n",
    "\n",
    "        # line equation: y = k*x + b\n",
    "        k = (y1-y2) / (x1-x2)\n",
    "        b = y1 - k*x1\n",
    "\n",
    "        println(\"secant function: y = $(k)*x + $(b)\")\n",
    "        # find x-intercept, with 0 = kx + b\n",
    "        x_intercept = -b / k\n",
    "        println(\"x intercept = $(x_intercept), iterations left: $(iterations)\")\n",
    "        \n",
    "        if k > 0\n",
    "            x1, x2 = x1, x_intercept\n",
    "        else\n",
    "            x1, x2 = x_intercept, x2\n",
    "        end\n",
    "\n",
    "    end\n",
    "    return x_intercept\n",
    "end\n",
    "\n",
    "find_x_intercept(f, 3,4)"
   ]
  },
  {
   "cell_type": "code",
   "execution_count": null,
   "id": "81fc3ad4",
   "metadata": {},
   "outputs": [],
   "source": []
  },
  {
   "cell_type": "code",
   "execution_count": null,
   "id": "3c54a240",
   "metadata": {},
   "outputs": [],
   "source": []
  },
  {
   "cell_type": "code",
   "execution_count": null,
   "id": "22ba1639",
   "metadata": {},
   "outputs": [],
   "source": []
  },
  {
   "cell_type": "code",
   "execution_count": null,
   "id": "b9b7d964",
   "metadata": {},
   "outputs": [],
   "source": []
  },
  {
   "cell_type": "code",
   "execution_count": null,
   "id": "fa4f1edb",
   "metadata": {},
   "outputs": [],
   "source": []
  },
  {
   "cell_type": "markdown",
   "id": "3b5d789d",
   "metadata": {},
   "source": [
    "## Bisection method"
   ]
  },
  {
   "cell_type": "markdown",
   "id": "f715b040",
   "metadata": {},
   "source": [
    "Desctiption taken from [here](https://www.math.hkust.edu.hk/~machas/numerical-methods-for-engineers.pdf), from [this](https://www.coursera.org/learn/numerical-methods-engineers/lecture/8f5iB/bisection-method-lecture-13) coursera course "
   ]
  },
  {
   "cell_type": "code",
   "execution_count": 31,
   "id": "469fda68",
   "metadata": {},
   "outputs": [
    {
     "name": "stdout",
     "output_type": "stream",
     "text": [
      "Next x = 1.5\n",
      "Next x = 1.25\n",
      "Next x = 1.375\n",
      "Next x = 1.4375\n",
      "Next x = 1.40625\n",
      "Next x = 1.421875\n",
      "Next x = 1.4140625\n",
      "Next x = 1.41796875\n",
      "Next x = 1.416015625\n",
      "Next x = 1.4150390625\n",
      "Next x = 1.41455078125\n",
      "Next x = 1.414306640625\n",
      "Next x = 1.4141845703125\n",
      "SQRT(2) with bisection method: 1.4141845703125, real: 1.4142135623730951\n"
     ]
    }
   ],
   "source": [
    "function bisection(f, x0, x1, iterations=3)\n",
    "    best_root_approximation = -1\n",
    "    while iterations > 0        \n",
    "        iterations -= 1\n",
    "        y0, y1 = f(x0), f(x1)\n",
    "        if y0 * y1 > 0\n",
    "            prinln(\"Positive sign means wrong initial guess with x0=$(x0) and x1=$(x1)!\")\n",
    "            return -1\n",
    "        end\n",
    "        best_root_approximation = x_next = (x0 + x1) / 2\n",
    "        println(\"Next x = $(x_next)\")\n",
    "\n",
    "        # choose a new pair, that \"brackets\" the root\n",
    "        y_next = f(x_next)\n",
    "        if y0 * y_next > 0\n",
    "            x0 = x_next\n",
    "            x1 = x1\n",
    "        else\n",
    "            x0 = x0\n",
    "            x1 = x_next\n",
    "        end\n",
    "    end\n",
    "    return best_root_approximation\n",
    "end\n",
    "\n",
    "f(x) = x^2 - 2\n",
    "root = bisection(f, 1, 2, 13)\n",
    "println(\"SQRT(2) with bisection method: $(root), real: $(sqrt(2))\")"
   ]
  },
  {
   "cell_type": "code",
   "execution_count": 33,
   "id": "111b2a02",
   "metadata": {},
   "outputs": [
    {
     "name": "stdout",
     "output_type": "stream",
     "text": [
      "Next x = 1.5\n",
      "Next x = 1.75\n",
      "Next x = 1.625\n",
      "Next x = 1.6875\n",
      "Next x = 1.71875\n",
      "Next x = 1.734375\n",
      "Next x = 1.7265625\n",
      "Next x = 1.73046875\n",
      "Next x = 1.732421875\n",
      "Next x = 1.7314453125\n",
      "Next x = 1.73193359375\n",
      "Next x = 1.732177734375\n",
      "Next x = 1.7320556640625\n",
      "SQRT(2) with bisection method: 1.7320556640625, real: 1.7320508075688772\n"
     ]
    }
   ],
   "source": [
    "f(x) = x^2 - 3\n",
    "root = bisection(f, 1, 2, 13)\n",
    "println(\"SQRT(2) with bisection method: $(root), real: $(sqrt(3))\")"
   ]
  },
  {
   "cell_type": "code",
   "execution_count": null,
   "id": "eb2a947f",
   "metadata": {},
   "outputs": [],
   "source": []
  },
  {
   "cell_type": "code",
   "execution_count": null,
   "id": "d52f747f",
   "metadata": {},
   "outputs": [],
   "source": []
  },
  {
   "cell_type": "markdown",
   "id": "32d910e8",
   "metadata": {},
   "source": [
    "## 1.6 Introduction to the Julia Language"
   ]
  },
  {
   "cell_type": "code",
   "execution_count": 1,
   "id": "a66d635d",
   "metadata": {},
   "outputs": [
    {
     "data": {
      "text/plain": [
       "4//3"
      ]
     },
     "execution_count": 1,
     "metadata": {},
     "output_type": "execute_result"
    }
   ],
   "source": [
    "4//3"
   ]
  },
  {
   "cell_type": "code",
   "execution_count": 4,
   "id": "34f4d53d",
   "metadata": {},
   "outputs": [
    {
     "data": {
      "text/plain": [
       "90.0"
      ]
     },
     "execution_count": 4,
     "metadata": {},
     "output_type": "execute_result"
    }
   ],
   "source": [
    "rad2deg(pi/2)"
   ]
  },
  {
   "cell_type": "code",
   "execution_count": null,
   "id": "21a521ee",
   "metadata": {},
   "outputs": [],
   "source": [
    "pi"
   ]
  },
  {
   "cell_type": "code",
   "execution_count": 6,
   "id": "a7c01630",
   "metadata": {},
   "outputs": [
    {
     "data": {
      "text/plain": [
       "7"
      ]
     },
     "execution_count": 6,
     "metadata": {},
     "output_type": "execute_result"
    }
   ],
   "source": [
    "g(x,y) = x + y\n",
    "g(2,5)"
   ]
  },
  {
   "cell_type": "code",
   "execution_count": 7,
   "id": "9502a551",
   "metadata": {},
   "outputs": [
    {
     "data": {
      "text/plain": [
       "4"
      ]
     },
     "execution_count": 7,
     "metadata": {},
     "output_type": "execute_result"
    }
   ],
   "source": [
    "x = g(2,2)"
   ]
  },
  {
   "cell_type": "code",
   "execution_count": 8,
   "id": "08857726",
   "metadata": {},
   "outputs": [
    {
     "data": {
      "text/plain": [
       "4"
      ]
     },
     "execution_count": 8,
     "metadata": {},
     "output_type": "execute_result"
    }
   ],
   "source": [
    "x"
   ]
  },
  {
   "cell_type": "code",
   "execution_count": 9,
   "id": "cb2a3430",
   "metadata": {},
   "outputs": [
    {
     "data": {
      "text/plain": [
       "1-element Vector{UnitRange{Int64}}:\n",
       " 1:5"
      ]
     },
     "execution_count": 9,
     "metadata": {},
     "output_type": "execute_result"
    }
   ],
   "source": [
    "a2 = [1:5]"
   ]
  },
  {
   "cell_type": "code",
   "execution_count": 14,
   "id": "48a3c042",
   "metadata": {},
   "outputs": [
    {
     "data": {
      "text/plain": [
       "UnitRange{Int64}"
      ]
     },
     "execution_count": 14,
     "metadata": {},
     "output_type": "execute_result"
    }
   ],
   "source": [
    "typeof(1:5)"
   ]
  },
  {
   "cell_type": "code",
   "execution_count": null,
   "id": "8e675d22",
   "metadata": {},
   "outputs": [],
   "source": []
  }
 ],
 "metadata": {
  "kernelspec": {
   "display_name": "Julia 1.6.2",
   "language": "julia",
   "name": "julia-1.6"
  },
  "language_info": {
   "file_extension": ".jl",
   "mimetype": "application/julia",
   "name": "julia",
   "version": "1.6.2"
  }
 },
 "nbformat": 4,
 "nbformat_minor": 5
}
